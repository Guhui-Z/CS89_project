{
 "cells": [
  {
   "cell_type": "code",
   "execution_count": 1,
   "id": "spread-toyota",
   "metadata": {},
   "outputs": [],
   "source": [
    "import requests\n",
    "import numpy as np\n",
    "import pandas as pd\n",
    "import matplotlib.pyplot as plt\n",
    "from bs4 import BeautifulSoup\n",
    "import pprint\n",
    "import json\n",
    "import urllib\n",
    "import requests"
   ]
  },
  {
   "cell_type": "markdown",
   "id": "bronze-shield",
   "metadata": {},
   "source": [
    "# Get Covid data from api.covidtracking.com\n",
    "1. suppose 'data' is the retrieved json, then it has keys ['links', 'meta', 'data']<br>\n",
    "2. For us/daily, data['data'] stores daily number of cases, with keys ['date', 'states', 'cases', 'testing', 'outcomes']<br>\n",
    "['date'] is the date in YYYY-MM-DD<br>\n",
    "['state'] is the number of states<br>\n",
    "['cases'] has a single key ['total'] with ['value'] (raw number) and ['calculated'] (some statistics)<br>\n",
    "['testing'] is structured the same way as ['cases']<br>\n",
    "['outcomes']<br>\n",
    "3. For state/daily, data['data'] has keys ['date', 'state', 'meta', 'cases', 'tests', 'outcomes']"
   ]
  },
  {
   "cell_type": "code",
   "execution_count": 106,
   "id": "shared-laser",
   "metadata": {},
   "outputs": [],
   "source": [
    "def get_state_codes():\n",
    "    '''\n",
    "    Query api to get state metadata, incl state codes\n",
    "    '''\n",
    "    l = 'https://api.covidtracking.com/v2/states.json'\n",
    "    with urllib.request.urlopen(l) as url:\n",
    "        link_json = json.load(url)\n",
    "    pd.DataFrame(link_json['data']).to_csv('./data/states.csv')"
   ]
  },
  {
   "cell_type": "code",
   "execution_count": 128,
   "id": "final-paste",
   "metadata": {},
   "outputs": [],
   "source": [
    "def retrieve_json(link):\n",
    "    '''\n",
    "    Given a link, query and save the json file. \n",
    "    Save all state file names in global variable covid_files.\n",
    "    '''\n",
    "    try:\n",
    "        with urllib.request.urlopen(link) as url:\n",
    "            link_json = json.load(url)\n",
    "        filename = './data/' + link.split('v2/')[1].replace('/', '_')\n",
    "        with open(filename, 'w') as f:\n",
    "            json.dump(link_json, f)\n",
    "        print('saved ' + filename)\n",
    "        if filename != './data/us_daily.json':\n",
    "            covid_files.append(filename)\n",
    "    except:\n",
    "        print('retrieval failed ' + link)"
   ]
  },
  {
   "cell_type": "code",
   "execution_count": 113,
   "id": "eleven-nothing",
   "metadata": {},
   "outputs": [],
   "source": [
    "def get_all_json():\n",
    "    '''\n",
    "    Get json files of us/daily.json and all the states/{state}/daily/simple.json\n",
    "    '''\n",
    "    covidtracking_api = 'https://api.covidtracking.com/v2/'\n",
    "    \n",
    "    retrieve_json(covidtracking_api+'us/daily.json')\n",
    "    \n",
    "    states_codes = pd.read_csv('./data/states.csv')['state_code'].str.lower()\n",
    "    for state in states_codes:\n",
    "        retrieve_json(covidtracking_api + 'states/' + state + '/daily/simple.json')"
   ]
  },
  {
   "cell_type": "code",
   "execution_count": 169,
   "id": "settled-bachelor",
   "metadata": {},
   "outputs": [],
   "source": [
    "def clean_df_from_json(filename):\n",
    "    '''\n",
    "    Given a json file, transform it to pandas DataFrame and save it locally as .csv.\n",
    "    '''\n",
    "    with open(filename, 'r') as f:\n",
    "        temp = json.load(f)\n",
    "    temp = pd.DataFrame(temp['data'])\n",
    "    \n",
    "    if filename != './data/us_daily.json': # parse state data\n",
    "        temp['cases_total'] = temp['cases'].apply(lambda x: x['total'])\n",
    "        temp['cases_confirmed'] = temp['cases'].apply(lambda x: x['confirmed'])\n",
    "        temp['cases_probable'] = temp['cases'].apply(lambda x: x['probable'])\n",
    "        temp['tests_total'] = temp['tests'].apply(lambda x: x['pcr']['specimens']['total'])\n",
    "        temp['tests_positive'] = temp['tests'].apply(lambda x: x['pcr']['specimens']['positive'])\n",
    "        temp = temp.drop(['cases', 'tests'], axis=1)\n",
    "        temp.to_csv(filename.replace('json', 'csv'))\n",
    "        print('saved ' + filename.replace('json', 'csv'))\n",
    "    else: # parse US data\n",
    "        temp['cases_total'] = temp['cases'].apply(lambda x: x['total']['value'])\n",
    "        temp['cases_percent'] = temp['cases'].apply(lambda x: x['total']['calculated']['population_percent'])\n",
    "        temp['cases_increase'] = temp['cases'].apply(lambda x: x['total']['calculated']['change_from_prior_day'])\n",
    "        temp['cases_7d_change'] = temp['cases'].apply(lambda x: x['total']['calculated']['seven_day_change_percent'])\n",
    "        temp['testing_total'] = temp['testing'].apply(lambda x: x['total']['value'])\n",
    "        temp['testing_percent'] = temp['testing'].apply(lambda x: x['total']['calculated']['population_percent'])\n",
    "        temp['testing_increase'] = temp['testing'].apply(lambda x: x['total']['calculated']['change_from_prior_day'])\n",
    "        temp['testing_7d_change'] = temp['testing'].apply(lambda x: x['total']['calculated']['seven_day_change_percent'])\n",
    "        temp = temp.drop(['cases', 'testing'], axis=1)\n",
    "        temp.to_csv('./data/us_daily.csv')\n",
    "        print('saved us_daily.csv')"
   ]
  },
  {
   "cell_type": "code",
   "execution_count": 170,
   "id": "otherwise-spotlight",
   "metadata": {},
   "outputs": [],
   "source": [
    "def clean_all_df():\n",
    "    '''\n",
    "    Parse all US and state json files.\n",
    "    '''\n",
    "    clean_df_from_json('./data/us_daily.json')\n",
    "    for file in covid_files:\n",
    "        clean_df_from_json(file)"
   ]
  },
  {
   "cell_type": "code",
   "execution_count": 107,
   "id": "pacific-taste",
   "metadata": {},
   "outputs": [],
   "source": [
    "get_state_codes()"
   ]
  },
  {
   "cell_type": "code",
   "execution_count": 93,
   "id": "killing-helen",
   "metadata": {
    "collapsed": true
   },
   "outputs": [
    {
     "name": "stdout",
     "output_type": "stream",
     "text": [
      "saved states_al_daily_simple.json\n",
      "saved states_ak_daily_simple.json\n",
      "saved states_az_daily_simple.json\n",
      "saved states_ar_daily_simple.json\n",
      "saved states_ca_daily_simple.json\n",
      "saved states_co_daily_simple.json\n",
      "saved states_ct_daily_simple.json\n",
      "saved states_de_daily_simple.json\n",
      "saved states_dc_daily_simple.json\n",
      "saved states_fl_daily_simple.json\n",
      "saved states_ga_daily_simple.json\n",
      "saved states_hi_daily_simple.json\n",
      "saved states_id_daily_simple.json\n",
      "saved states_il_daily_simple.json\n",
      "saved states_in_daily_simple.json\n",
      "saved states_ia_daily_simple.json\n",
      "saved states_ks_daily_simple.json\n",
      "saved states_ky_daily_simple.json\n",
      "saved states_la_daily_simple.json\n",
      "saved states_me_daily_simple.json\n",
      "saved states_md_daily_simple.json\n",
      "saved states_ma_daily_simple.json\n",
      "saved states_mi_daily_simple.json\n",
      "saved states_mn_daily_simple.json\n",
      "saved states_ms_daily_simple.json\n",
      "saved states_mo_daily_simple.json\n",
      "saved states_mt_daily_simple.json\n",
      "saved states_ne_daily_simple.json\n",
      "saved states_nv_daily_simple.json\n",
      "saved states_nh_daily_simple.json\n",
      "saved states_nj_daily_simple.json\n",
      "saved states_nm_daily_simple.json\n",
      "saved states_ny_daily_simple.json\n",
      "saved states_nc_daily_simple.json\n",
      "saved states_nd_daily_simple.json\n",
      "saved states_oh_daily_simple.json\n",
      "saved states_ok_daily_simple.json\n",
      "saved states_or_daily_simple.json\n",
      "saved states_pa_daily_simple.json\n",
      "saved states_pr_daily_simple.json\n",
      "saved states_ri_daily_simple.json\n",
      "saved states_sc_daily_simple.json\n",
      "saved states_sd_daily_simple.json\n",
      "saved states_tn_daily_simple.json\n",
      "saved states_tx_daily_simple.json\n",
      "saved states_ut_daily_simple.json\n",
      "saved states_vt_daily_simple.json\n",
      "saved states_va_daily_simple.json\n",
      "saved states_vi_daily_simple.json\n",
      "saved states_wa_daily_simple.json\n",
      "saved states_wv_daily_simple.json\n",
      "saved states_wi_daily_simple.json\n",
      "saved states_wy_daily_simple.json\n"
     ]
    }
   ],
   "source": [
    "covid_files = [] # store state json file names\n",
    "get_all_json()"
   ]
  },
  {
   "cell_type": "code",
   "execution_count": 171,
   "id": "stable-local",
   "metadata": {
    "collapsed": true
   },
   "outputs": [
    {
     "name": "stdout",
     "output_type": "stream",
     "text": [
      "saved us_daily.csv\n",
      "saved states_al_daily_simple.csv\n",
      "saved states_ak_daily_simple.csv\n",
      "saved states_az_daily_simple.csv\n",
      "saved states_ar_daily_simple.csv\n",
      "saved states_ca_daily_simple.csv\n",
      "saved states_co_daily_simple.csv\n",
      "saved states_ct_daily_simple.csv\n",
      "saved states_de_daily_simple.csv\n",
      "saved states_dc_daily_simple.csv\n",
      "saved states_fl_daily_simple.csv\n",
      "saved states_ga_daily_simple.csv\n",
      "saved states_hi_daily_simple.csv\n",
      "saved states_id_daily_simple.csv\n",
      "saved states_il_daily_simple.csv\n",
      "saved states_in_daily_simple.csv\n",
      "saved states_ia_daily_simple.csv\n",
      "saved states_ks_daily_simple.csv\n",
      "saved states_ky_daily_simple.csv\n",
      "saved states_la_daily_simple.csv\n",
      "saved states_me_daily_simple.csv\n",
      "saved states_md_daily_simple.csv\n",
      "saved states_ma_daily_simple.csv\n",
      "saved states_mi_daily_simple.csv\n",
      "saved states_mn_daily_simple.csv\n",
      "saved states_ms_daily_simple.csv\n",
      "saved states_mo_daily_simple.csv\n",
      "saved states_mt_daily_simple.csv\n",
      "saved states_ne_daily_simple.csv\n",
      "saved states_nv_daily_simple.csv\n",
      "saved states_nh_daily_simple.csv\n",
      "saved states_nj_daily_simple.csv\n",
      "saved states_nm_daily_simple.csv\n",
      "saved states_ny_daily_simple.csv\n",
      "saved states_nc_daily_simple.csv\n",
      "saved states_nd_daily_simple.csv\n",
      "saved states_oh_daily_simple.csv\n",
      "saved states_ok_daily_simple.csv\n",
      "saved states_or_daily_simple.csv\n",
      "saved states_pa_daily_simple.csv\n",
      "saved states_pr_daily_simple.csv\n",
      "saved states_ri_daily_simple.csv\n",
      "saved states_sc_daily_simple.csv\n",
      "saved states_sd_daily_simple.csv\n",
      "saved states_tn_daily_simple.csv\n",
      "saved states_tx_daily_simple.csv\n",
      "saved states_ut_daily_simple.csv\n",
      "saved states_vt_daily_simple.csv\n",
      "saved states_va_daily_simple.csv\n",
      "saved states_vi_daily_simple.csv\n",
      "saved states_wa_daily_simple.csv\n",
      "saved states_wv_daily_simple.csv\n",
      "saved states_wi_daily_simple.csv\n",
      "saved states_wy_daily_simple.csv\n",
      "saved states_as_daily_simple.csv\n",
      "saved states_gu_daily_simple.csv\n",
      "saved states_mp_daily_simple.csv\n"
     ]
    }
   ],
   "source": [
    "clean_all_df()"
   ]
  },
  {
   "cell_type": "markdown",
   "id": "known-bennett",
   "metadata": {},
   "source": [
    "# Get Covid data (of March 10) from worldometers"
   ]
  },
  {
   "cell_type": "code",
   "execution_count": 6,
   "id": "universal-jenny",
   "metadata": {},
   "outputs": [],
   "source": [
    "wdm = 'https://www.worldometers.info/coronavirus/country/us/'\n",
    "wdm_page = requests.get(wdm)"
   ]
  },
  {
   "cell_type": "code",
   "execution_count": 12,
   "id": "express-index",
   "metadata": {},
   "outputs": [
    {
     "data": {
      "text/plain": [
       "['#',\n",
       " 'USAState',\n",
       " 'TotalCases',\n",
       " 'NewCases',\n",
       " 'TotalDeaths',\n",
       " 'NewDeaths',\n",
       " 'TotalRecovered',\n",
       " 'ActiveCases',\n",
       " 'Tot\\xa0Cases/1M pop',\n",
       " 'Deaths/1M pop',\n",
       " 'TotalTests',\n",
       " 'Tests/ 1M pop',\n",
       " 'Population',\n",
       " 'Projections']"
      ]
     },
     "execution_count": 12,
     "metadata": {},
     "output_type": "execute_result"
    }
   ],
   "source": [
    "df = pd.read_html(wdm_page.content)[1]\n",
    "df.columns.to_list() # check weird column names"
   ]
  },
  {
   "cell_type": "code",
   "execution_count": 16,
   "id": "blind-curtis",
   "metadata": {},
   "outputs": [],
   "source": [
    "# change weird column names\n",
    "df = df.rename(columns={'Tot\\xa0Cases/1M pop': 'TotCasesPer1MPop', \n",
    "                        'Deaths/1M pop':'DeathsPer1MPop', 'Tests/ 1M pop': 'TestsPer1MPop'})\n",
    "df.to_csv('./data/us_0310.csv')"
   ]
  },
  {
   "cell_type": "markdown",
   "id": "trained-reward",
   "metadata": {},
   "source": [
    "# Get weather data from api.weather.gov (abandoned)\n",
    "\n",
    "Abandoned because the api does not provide enough data<br>\n",
    "(only weather from the last 3 days are available)<br>\n",
    "included here as a record of the data scraping process for completeness"
   ]
  },
  {
   "cell_type": "code",
   "execution_count": 100,
   "id": "union-muslim",
   "metadata": {},
   "outputs": [],
   "source": [
    "# the county_stations is always empty as returned by the api, so we have another function\n",
    "# get_state_stations\n",
    "def get_state_counties(state):\n",
    "    state_abbr = states[states['name']==state]['state_code'].values[0]\n",
    "    t = f'https://api.weather.gov/zones?area={state_abbr}&type=county'\n",
    "    with urllib.request.urlopen(t) as url:\n",
    "            k = url.read()\n",
    "    print(t + ' api call is successful')\n",
    "    j = json.loads(k)['features']\n",
    "    \n",
    "    county_links = [item['id'] for item in j]\n",
    "    county_ids = [item['properties']['id'] for item in j]\n",
    "    county_names = [item['properties']['name'] for item in j]\n",
    "    county_states = [item['properties']['state'] for item in j]\n",
    "    county_stations = [item['properties']['observationStations'] for item in j] # empty\n",
    "    \n",
    "    df = pd.DataFrame({'link': county_links, 'id': county_ids, 'name': county_names,\n",
    "                      'state_code': county_states, 'stations': county_stations})\n",
    "    df['state'] = [state]*len(j)\n",
    "    return df"
   ]
  },
  {
   "cell_type": "code",
   "execution_count": 23,
   "id": "ranking-credit",
   "metadata": {},
   "outputs": [],
   "source": [
    "# the api does not show any stations for a given county, so we have to get all stations in\n",
    "# a state and match them to their counties\n",
    "def get_state_stations(state):\n",
    "    state_abbr = states[states['name']==state]['state_code'].values[0]\n",
    "    t = f'https://api.weather.gov/stations?state={state_abbr}'\n",
    "    with urllib.request.urlopen(t) as url:\n",
    "            k = url.read()\n",
    "    print(t + ' api call is successful')\n",
    "    j = json.loads(k)['features']\n",
    "    \n",
    "    station_forecasts = []\n",
    "    for i, item in enumerate(j):\n",
    "        if 'forecast' in item['properties'].keys():\n",
    "            station_forecasts.append(item['properties']['forecast'])\n",
    "        else:\n",
    "            station_forecasts.append(np.nan)\n",
    "\n",
    "    station_counties = []\n",
    "    for i, item in enumerate(j):\n",
    "        if 'county' in item['properties'].keys():\n",
    "            station_counties.append(item['properties']['county'].split('/')[-1])\n",
    "        else:\n",
    "            station_counties.append(np.nan)\n",
    "    \n",
    "    df = pd.DataFrame({'forecast': station_forecasts, 'county': station_counties})\n",
    "    df = df.dropna(axis=0)\n",
    "    df = df.drop_duplicates(ignore_index=True)\n",
    "    \n",
    "    return df"
   ]
  },
  {
   "cell_type": "code",
   "execution_count": 122,
   "id": "engaging-accordance",
   "metadata": {},
   "outputs": [],
   "source": [
    "def get_station_county_pair(state):\n",
    "    counties_of_state = get_state_counties(state)\n",
    "    stations_of_state = get_state_stations(state)\n",
    "    df = pd.merge(cali, cali_station, left_on='id', right_on='county', \n",
    "                  suffixes=['_county', '_station'])\n",
    "    df = df.drop('county', axis=1)\n",
    "    df.to_csv(f'./data/{state}_station_county_pair.csv')"
   ]
  },
  {
   "cell_type": "code",
   "execution_count": 131,
   "id": "wireless-quilt",
   "metadata": {},
   "outputs": [],
   "source": [
    "states = pd.read_csv('./data/states.csv', index_col=0)"
   ]
  },
  {
   "cell_type": "code",
   "execution_count": 123,
   "id": "directed-payday",
   "metadata": {},
   "outputs": [
    {
     "name": "stdout",
     "output_type": "stream",
     "text": [
      "https://api.weather.gov/zones?area=CA&type=county api call is successful\n",
      "https://api.weather.gov/stations?state=CA api call is successful\n"
     ]
    }
   ],
   "source": [
    "get_station_county_pair('California')"
   ]
  },
  {
   "cell_type": "markdown",
   "id": "informal-twelve",
   "metadata": {},
   "source": [
    "# Get weather data from NOAA\n",
    "Get TAVG (average temperature) for counties from 2020-01-21 to 2021-03-08 using fsip through NOAA api"
   ]
  },
  {
   "cell_type": "code",
   "execution_count": null,
   "id": "widespread-double",
   "metadata": {},
   "outputs": [],
   "source": [
    "# get all available datatypes of NOAA\n",
    "all_datatypes_df = pd.DataFrame()\n",
    "for i in ['asc', 'desc']: # query twice because the api return has a limit of 1000\n",
    "    datatypes = f'https://www.ncdc.noaa.gov/cdo-web/api/v2/datatypes?limit=1000&sortorder=' + i\n",
    "    datatypes_r = requests.get(datatypes, headers={'token': token})\n",
    "\n",
    "    temp = json.loads(datatypes_r.text)['results']\n",
    "    mindate = [item['mindate'] for item in temp]\n",
    "    maxdate = [item['maxdate'] for item in temp]\n",
    "    name = [item['name'] for item in temp]\n",
    "    _id = [item['id'] for item in temp]\n",
    "    datatype_df = pd.DataFrame({'mindate': mindate, 'maxdate': maxdate, 'name': name, 'id': _id})\n",
    "    all_datatypes_df = pd.concat([all_datatypes_df, datatype_df])\n",
    "\n",
    "all_datatypes_df.drop_duplicates(ignore_index=True, inplace=True)\n",
    "all_datatypes_df = all_datatypes_df.sort_values('id')\n",
    "all_datatypes_df.to_csv('noaa_datatypes.csv')"
   ]
  },
  {
   "cell_type": "code",
   "execution_count": 33,
   "id": "written-philosophy",
   "metadata": {},
   "outputs": [],
   "source": [
    "def get_county_weather(state):\n",
    "    '''\n",
    "    Given a state, get all the available TAVG data for its counties\n",
    "    '''\n",
    "    county_fips = us_counties[us_counties['state']==state]['fips'].unique()\n",
    "    params1 = '&startdate=2020-01-21&enddate=2020-12-31&datatypeid=TAVG&limit=1000&units=standard'\n",
    "    params2 = '&startdate=2021-01-01&enddate=2021-03-08&datatypeid=TAVG&limit=1000&units=standard'\n",
    "    total = pd.DataFrame()\n",
    "    print(f'{len(county_fips)} counties')\n",
    "    \n",
    "    for fips in county_fips:\n",
    "        for params in [params1, params2]: # query twice because of the api return limit of 1k\n",
    "            \n",
    "            # make connection\n",
    "            link = noaa_api + f'&locationid=FIPS:{int(fips):05}' + params\n",
    "            try:\n",
    "                r = requests.get(link, headers={'token': token}, timeout=5)\n",
    "            except:\n",
    "                print(fips, 'timeout', end=' ')\n",
    "                continue\n",
    "            if r.status_code != 200:\n",
    "                print(fips, 'failed', end=' ')\n",
    "                continue\n",
    "            print(fips, 'connected', end=' ')\n",
    "            \n",
    "            # parse response\n",
    "            if json.loads(r.text): # response can be empty\n",
    "            \n",
    "                d = json.loads(r.text)['results']\n",
    "                dates = [item['date'] for item in d]\n",
    "                values = [item['value'] for item in d]\n",
    "                df = pd.DataFrame({'TAVG': values, 'date': dates})\n",
    "                df['fips'] = [fips] * len(d)\n",
    "                \n",
    "                # there can be 2 TAVGs for one day\n",
    "                # this step takes the mean of the 2 TAVGs\n",
    "                mean_tavg = df.groupby(['fips', 'date'])['TAVG'].mean().values\n",
    "                df = df.drop('TAVG', axis=1)\n",
    "                df = df.drop_duplicates(ignore_index=True)\n",
    "                df['mean_temp'] = mean_tavg\n",
    "\n",
    "                total = pd.concat((total, df))\n",
    "                \n",
    "    total.to_csv(f'./weather_data/{state}_weather.csv')\n",
    "    return total"
   ]
  },
  {
   "cell_type": "code",
   "execution_count": 3,
   "id": "judicial-valuation",
   "metadata": {},
   "outputs": [],
   "source": [
    "us_counties = pd.read_csv('./data/us-counties.csv')\n",
    "us_counties['date'] = pd.to_datetime(us_counties['date'])\n",
    "us_counties = us_counties.dropna()"
   ]
  },
  {
   "cell_type": "code",
   "execution_count": 4,
   "id": "toxic-participant",
   "metadata": {},
   "outputs": [],
   "source": [
    "noaa_api = 'https://www.ncdc.noaa.gov/cdo-web/api/v2/data?datasetid=GHCND'\n",
    "token = 'rilsfDWJGSwodWyqrUaOsREORAwwngJa' # my token"
   ]
  },
  {
   "cell_type": "code",
   "execution_count": 34,
   "id": "blond-gregory",
   "metadata": {
    "collapsed": true
   },
   "outputs": [
    {
     "name": "stdout",
     "output_type": "stream",
     "text": [
      "58 counties\n",
      "6059.0 connected 6059.0 connected 6037.0 connected 6037.0 connected 6085.0 connected 6085.0 connected 6075.0 connected 6075.0 connected 6073.0 connected 6073.0 connected 6023.0 connected 6023.0 connected 6067.0 connected 6067.0 connected 6095.0 connected 6095.0 connected 6041.0 connected 6041.0 connected 6055.0 connected 6055.0 connected 6097.0 connected 6097.0 connected 6001.0 connected 6001.0 connected 6061.0 connected 6061.0 connected 6081.0 connected 6081.0 connected 6013.0 connected 6013.0 connected 6113.0 connected 6113.0 connected 6019.0 connected 6019.0 connected 6039.0 connected 6039.0 connected 6065.0 connected 6065.0 connected 6087.0 connected 6087.0 connected 6089.0 connected 6089.0 connected 6077.0 connected 6077.0 connected 6111.0 timeout 6111.0 timeout 6099.0 connected 6099.0 connected 6107.0 connected 6107.0 connected 6069.0 timeout 6069.0 timeout 6079.0 timeout 6079.0 connected 6071.0 connected 6071.0 connected 6083.0 connected 6083.0 connected 6057.0 connected 6057.0 connected 6029.0 connected 6029.0 timeout 6053.0 timeout 6053.0 timeout 6045.0 timeout 6045.0 connected 6005.0 connected 6005.0 connected 6025.0 connected 6025.0 connected 6007.0 timeout 6007.0 connected 6017.0 connected 6017.0 timeout 6093.0 connected 6093.0 connected 6115.0 connected 6115.0 connected 6009.0 connected 6009.0 connected 6047.0 timeout 6047.0 timeout 6051.0 timeout 6051.0 connected 6027.0 connected 6027.0 connected 6101.0 connected 6101.0 connected 6011.0 connected 6011.0 timeout 6031.0 connected 6031.0 connected 6021.0 connected 6021.0 connected 6109.0 connected 6109.0 connected 6003.0 connected 6003.0 connected 6063.0 connected 6063.0 connected 6015.0 connected 6015.0 connected 6103.0 timeout 6103.0 connected 6033.0 connected 6033.0 connected 6043.0 connected 6043.0 connected 6105.0 connected 6105.0 connected 6091.0 connected 6091.0 connected 6035.0 connected 6035.0 connected 6049.0 connected 6049.0 connected "
     ]
    },
    {
     "data": {
      "text/html": [
       "<div>\n",
       "<style scoped>\n",
       "    .dataframe tbody tr th:only-of-type {\n",
       "        vertical-align: middle;\n",
       "    }\n",
       "\n",
       "    .dataframe tbody tr th {\n",
       "        vertical-align: top;\n",
       "    }\n",
       "\n",
       "    .dataframe thead th {\n",
       "        text-align: right;\n",
       "    }\n",
       "</style>\n",
       "<table border=\"1\" class=\"dataframe\">\n",
       "  <thead>\n",
       "    <tr style=\"text-align: right;\">\n",
       "      <th></th>\n",
       "      <th>date</th>\n",
       "      <th>fips</th>\n",
       "      <th>mean_temp</th>\n",
       "    </tr>\n",
       "  </thead>\n",
       "  <tbody>\n",
       "    <tr>\n",
       "      <th>0</th>\n",
       "      <td>2020-01-21T00:00:00</td>\n",
       "      <td>6059.0</td>\n",
       "      <td>51.5</td>\n",
       "    </tr>\n",
       "    <tr>\n",
       "      <th>1</th>\n",
       "      <td>2020-01-22T00:00:00</td>\n",
       "      <td>6059.0</td>\n",
       "      <td>53.0</td>\n",
       "    </tr>\n",
       "    <tr>\n",
       "      <th>2</th>\n",
       "      <td>2020-01-23T00:00:00</td>\n",
       "      <td>6059.0</td>\n",
       "      <td>62.5</td>\n",
       "    </tr>\n",
       "    <tr>\n",
       "      <th>3</th>\n",
       "      <td>2020-01-24T00:00:00</td>\n",
       "      <td>6059.0</td>\n",
       "      <td>62.0</td>\n",
       "    </tr>\n",
       "    <tr>\n",
       "      <th>4</th>\n",
       "      <td>2020-01-25T00:00:00</td>\n",
       "      <td>6059.0</td>\n",
       "      <td>57.5</td>\n",
       "    </tr>\n",
       "    <tr>\n",
       "      <th>...</th>\n",
       "      <td>...</td>\n",
       "      <td>...</td>\n",
       "      <td>...</td>\n",
       "    </tr>\n",
       "    <tr>\n",
       "      <th>62</th>\n",
       "      <td>2021-03-04T00:00:00</td>\n",
       "      <td>6049.0</td>\n",
       "      <td>39.1</td>\n",
       "    </tr>\n",
       "    <tr>\n",
       "      <th>63</th>\n",
       "      <td>2021-03-05T00:00:00</td>\n",
       "      <td>6049.0</td>\n",
       "      <td>42.7</td>\n",
       "    </tr>\n",
       "    <tr>\n",
       "      <th>64</th>\n",
       "      <td>2021-03-06T00:00:00</td>\n",
       "      <td>6049.0</td>\n",
       "      <td>31.3</td>\n",
       "    </tr>\n",
       "    <tr>\n",
       "      <th>65</th>\n",
       "      <td>2021-03-07T00:00:00</td>\n",
       "      <td>6049.0</td>\n",
       "      <td>33.2</td>\n",
       "    </tr>\n",
       "    <tr>\n",
       "      <th>66</th>\n",
       "      <td>2021-03-08T00:00:00</td>\n",
       "      <td>6049.0</td>\n",
       "      <td>32.6</td>\n",
       "    </tr>\n",
       "  </tbody>\n",
       "</table>\n",
       "<p>12947 rows × 3 columns</p>\n",
       "</div>"
      ],
      "text/plain": [
       "                   date    fips  mean_temp\n",
       "0   2020-01-21T00:00:00  6059.0       51.5\n",
       "1   2020-01-22T00:00:00  6059.0       53.0\n",
       "2   2020-01-23T00:00:00  6059.0       62.5\n",
       "3   2020-01-24T00:00:00  6059.0       62.0\n",
       "4   2020-01-25T00:00:00  6059.0       57.5\n",
       "..                  ...     ...        ...\n",
       "62  2021-03-04T00:00:00  6049.0       39.1\n",
       "63  2021-03-05T00:00:00  6049.0       42.7\n",
       "64  2021-03-06T00:00:00  6049.0       31.3\n",
       "65  2021-03-07T00:00:00  6049.0       33.2\n",
       "66  2021-03-08T00:00:00  6049.0       32.6\n",
       "\n",
       "[12947 rows x 3 columns]"
      ]
     },
     "execution_count": 34,
     "metadata": {},
     "output_type": "execute_result"
    }
   ],
   "source": [
    "_ = get_county_weather('California')"
   ]
  },
  {
   "cell_type": "code",
   "execution_count": 35,
   "id": "afraid-yemen",
   "metadata": {
    "collapsed": true
   },
   "outputs": [
    {
     "name": "stdout",
     "output_type": "stream",
     "text": [
      "254 counties\n"
     ]
    },
    {
     "name": "stdout",
     "output_type": "stream",
     "text": [
      "48029.0 connected 48029.0 connected 48157.0 connected 48157.0 connected 48201.0 connected 48201.0 connected 48085.0 connected 48085.0 connected 48113.0 connected 48113.0 connected 48339.0 connected 48339.0 connected 48439.0 connected 48439.0 connected 48183.0 connected 48183.0 connected 48027.0 connected 48027.0 connected 48141.0 connected 48141.0 connected 48167.0 connected 48167.0 connected 48423.0 connected 48423.0 connected 48453.0 connected 48453.0 connected 48039.0 timeout 48039.0 connected 48209.0 connected 48209.0 connected 48121.0 connected 48121.0 connected 48037.0 connected 48037.0 connected 48321.0 connected 48321.0 connected 48041.0 connected 48041.0 connected 48139.0 connected 48139.0 connected 48303.0 connected 48303.0 connected 48285.0 connected 48285.0 connected 48309.0 connected 48309.0 connected 48325.0 timeout 48325.0 connected 48401.0 connected 48401.0 connected 48479.0 connected 48479.0 connected 48485.0 connected 48485.0 connected 48491.0 connected 48491.0 connected 48061.0 connected 48061.0 connected 48103.0 connected 48103.0 timeout 48123.0 connected 48123.0 connected 48251.0 timeout 48251.0 connected 48467.0 connected 48467.0 connected 48049.0 connected 48049.0 connected 48067.0 connected 48067.0 connected 48147.0 connected 48147.0 connected 48219.0 connected 48219.0 connected 48459.0 connected 48459.0 connected 48021.0 connected 48021.0 connected 48069.0 connected 48069.0 connected 48117.0 connected 48117.0 connected 48329.0 connected 48329.0 connected 48359.0 connected 48359.0 timeout 48375.0 connected 48375.0 connected 48343.0 connected 48343.0 connected 48071.0 timeout 48071.0 connected 48091.0 connected 48091.0 connected 48145.0 connected 48145.0 connected 48181.0 connected 48181.0 connected 48215.0 connected 48215.0 connected 48245.0 connected 48245.0 connected 48355.0 connected 48355.0 connected 48367.0 connected 48367.0 connected 48469.0 connected 48469.0 connected 48013.0 connected 48013.0 connected 48015.0 connected 48015.0 connected 48031.0 connected 48031.0 connected 48053.0 connected 48053.0 connected 48099.0 connected 48099.0 connected 48133.0 connected 48133.0 connected 48143.0 connected 48143.0 connected 48149.0 connected 48149.0 connected 48165.0 connected 48165.0 connected 48185.0 connected 48185.0 connected 48187.0 connected 48187.0 connected 48189.0 connected 48189.0 connected 48199.0 connected 48199.0 connected 48223.0 connected 48223.0 connected 48231.0 connected 48231.0 connected 48257.0 connected 48257.0 connected 48259.0 connected 48259.0 connected 48277.0 connected 48277.0 connected 48291.0 connected 48291.0 connected 48293.0 connected 48293.0 connected 48299.0 connected 48299.0 connected 48323.0 connected 48323.0 connected 48331.0 connected 48331.0 connected 48361.0 connected 48361.0 connected 48395.0 connected 48395.0 connected 48409.0 connected 48409.0 connected 48445.0 connected 48445.0 connected 48451.0 connected 48451.0 connected 48471.0 connected 48471.0 connected 48481.0 connected 48481.0 connected 48493.0 connected 48493.0 connected 48005.0 connected 48005.0 connected 48057.0 connected 48057.0 connected 48239.0 connected 48239.0 connected 48255.0 connected 48255.0 connected 48317.0 connected 48317.0 connected 48347.0 connected 48347.0 connected 48397.0 connected 48397.0 connected 48465.0 connected 48465.0 connected 48073.0 connected 48073.0 connected 48203.0 connected 48203.0 connected 48221.0 connected 48221.0 connected 48337.0 connected 48337.0 connected 48349.0 connected 48349.0 connected 48381.0 connected 48381.0 connected 48419.0 connected 48419.0 connected 48427.0 connected 48427.0 connected 48441.0 connected 48441.0 connected 48463.0 timeout 48463.0 connected 48489.0 connected 48489.0 connected 48503.0 connected 48503.0 connected 48051.0 connected 48051.0 connected 48055.0 connected 48055.0 connected 48279.0 connected 48279.0 connected 48305.0 connected 48305.0 connected 48477.0 connected 48477.0 connected 48115.0 connected 48115.0 connected 48135.0 connected 48135.0 connected 48159.0 connected 48159.0 connected 48213.0 connected 48213.0 connected 48273.0 connected 48273.0 connected 48373.0 connected 48373.0 connected 48407.0 connected 48407.0 connected 48437.0 connected 48437.0 connected 48473.0 connected 48473.0 connected 48217.0 connected 48217.0 connected 48289.0 connected 48289.0 connected 48341.0 timeout 48341.0 connected 48497.0 connected 48497.0 connected 48001.0 connected 48001.0 connected 48063.0 connected 48063.0 connected 48077.0 connected 48077.0 connected 48089.0 connected 48089.0 connected 48093.0 connected 48093.0 connected 48177.0 connected 48177.0 connected 48179.0 connected 48179.0 connected 48265.0 connected 48265.0 timeout 48297.0 connected 48297.0 connected 48351.0 connected 48351.0 timeout 48405.0 connected 48405.0 connected 48499.0 connected 48499.0 connected 48129.0 connected 48129.0 connected 48171.0 connected 48171.0 connected 48175.0 connected 48175.0 connected 48241.0 connected 48241.0 connected 48249.0 connected 48249.0 connected 48287.0 connected 48287.0 connected 48363.0 connected 48363.0 connected 48365.0 connected 48365.0 connected 48281.0 connected 48281.0 connected 48449.0 connected 48449.0 connected 48003.0 connected 48003.0 connected 48211.0 connected 48211.0 connected 48233.0 connected 48233.0 connected 48319.0 connected 48319.0 connected 48455.0 connected 48455.0 connected 48457.0 connected 48457.0 connected 48007.0 connected 48007.0 connected 48371.0 connected 48371.0 connected 48505.0 connected 48505.0 connected 48059.0 connected 48059.0 connected 48107.0 connected 48107.0 connected 48111.0 connected 48111.0 connected 48193.0 connected 48193.0 connected 48195.0 connected 48195.0 connected 48275.0 connected 48275.0 connected 48335.0 connected 48335.0 connected 48025.0 connected 48025.0 connected 48119.0 connected 48119.0 connected 48125.0 connected 48125.0 connected 48153.0 connected 48153.0 connected 48163.0 connected 48163.0 connected 48253.0 connected 48253.0 connected 48019.0 connected 48019.0 connected 48237.0 connected 48237.0 connected 48313.0 timeout 48313.0 connected 48307.0 connected 48307.0 connected 48403.0 connected 48403.0 connected 48415.0 connected 48415.0 connected 48095.0 connected 48095.0 connected 48097.0 connected 48097.0 connected 48227.0 connected 48227.0 connected 48379.0 connected 48379.0 connected 48429.0 connected 48429.0 connected 48495.0 connected 48495.0 connected 48127.0 connected 48127.0 connected 48345.0 connected 48345.0 connected 48011.0 connected 48011.0 connected 48131.0 connected 48131.0 connected 48487.0 connected 48487.0 connected 48035.0 connected 48035.0 connected 48161.0 connected 48161.0 connected 48283.0 connected 48283.0 connected 48315.0 connected 48315.0 connected 48387.0 connected 48387.0 connected 48393.0 connected 48393.0 connected 48421.0 connected 48421.0 connected 48507.0 connected 48507.0 connected 48065.0 connected 48065.0 connected 48501.0 connected 48501.0 connected 48075.0 connected 48075.0 connected 48225.0 connected 48225.0 connected 48369.0 connected 48369.0 connected 48205.0 connected 48205.0 connected 48047.0 connected 48047.0 connected 48483.0 connected 48483.0 connected 48079.0 connected 48079.0 connected 48247.0 connected 48247.0 connected 48353.0 connected 48353.0 connected 48357.0 connected 48357.0 connected 48101.0 connected 48101.0 connected 48295.0 connected 48295.0 connected 48399.0 connected 48399.0 connected 48169.0 connected 48169.0 connected 48173.0 connected 48173.0 connected 48043.0 connected 48043.0 connected 48045.0 connected 48045.0 connected 48083.0 connected 48083.0 connected 48391.0 connected 48391.0 connected 48017.0 connected 48017.0 connected 48081.0 connected 48081.0 connected 48087.0 connected 48087.0 connected 48417.0 connected 48417.0 connected 48267.0 connected 48267.0 connected 48389.0 connected 48389.0 connected 48009.0 connected 48009.0 connected 48151.0 connected 48151.0 connected 48207.0 connected 48207.0 connected 48333.0 connected 48333.0 connected 48411.0 connected 48411.0 connected 48191.0 timeout 48191.0 connected 48197.0 connected 48197.0 connected 48475.0 connected 48475.0 connected 48377.0 timeout 48377.0 connected 48229.0 connected "
     ]
    },
    {
     "name": "stdout",
     "output_type": "stream",
     "text": [
      "48229.0 connected 48383.0 connected 48383.0 connected 48271.0 timeout 48271.0 connected 48235.0 timeout 48235.0 connected 48023.0 connected 48023.0 connected 48105.0 connected 48105.0 connected 48385.0 connected 48385.0 connected 48425.0 connected 48425.0 connected 48413.0 connected 48413.0 connected 48435.0 connected 48435.0 connected 48461.0 connected 48461.0 connected 48109.0 connected 48109.0 connected 48327.0 connected 48327.0 timeout 48443.0 connected 48443.0 connected 48137.0 connected 48137.0 connected 48243.0 connected 48243.0 connected 48261.0 connected 48261.0 timeout 48447.0 connected 48447.0 timeout 48155.0 connected 48155.0 connected 48263.0 connected 48263.0 connected 48311.0 connected 48311.0 connected 48433.0 connected 48433.0 connected 48431.0 connected 48431.0 connected 48033.0 connected 48033.0 connected 48269.0 timeout 48269.0 connected 48301.0 connected 48301.0 connected "
     ]
    }
   ],
   "source": [
    "_ = get_county_weather('Texas')"
   ]
  },
  {
   "cell_type": "code",
   "execution_count": 40,
   "id": "remarkable-boulder",
   "metadata": {
    "collapsed": true
   },
   "outputs": [
    {
     "name": "stdout",
     "output_type": "stream",
     "text": [
      "67 counties\n",
      "12057.0 connected 12057.0 connected 12081.0 connected 12081.0 connected 12113.0 connected 12113.0 connected 12011.0 connected 12011.0 connected 12071.0 connected 12071.0 connected 12015.0 connected 12015.0 connected 12091.0 connected 12091.0 connected 12127.0 connected 12127.0 connected 12001.0 connected 12001.0 connected 12021.0 connected 12021.0 connected 12089.0 connected 12089.0 connected 12101.0 connected 12101.0 connected 12103.0 connected 12103.0 connected 12086.0 connected 12086.0 connected 12109.0 connected 12109.0 connected 12019.0 connected 12019.0 connected 12031.0 timeout 12031.0 connected 12099.0 timeout 12099.0 connected 12115.0 connected 12115.0 connected 12117.0 connected 12117.0 connected 12095.0 connected 12095.0 timeout 12097.0 connected 12097.0 connected 12003.0 connected 12003.0 connected 12017.0 connected 12017.0 connected 12033.0 connected 12033.0 connected 12069.0 connected 12069.0 connected 12009.0 connected 12009.0 connected 12105.0 connected 12105.0 connected 12073.0 timeout 12073.0 connected 12119.0 connected 12119.0 connected 12131.0 connected 12131.0 connected 12053.0 connected 12053.0 connected 12061.0 connected 12061.0 connected 12063.0 connected 12063.0 connected 12085.0 connected 12085.0 connected 12087.0 connected 12087.0 connected 12005.0 connected 12005.0 connected 12055.0 connected 12055.0 connected 12083.0 connected 12083.0 connected 12107.0 connected 12107.0 connected 12111.0 connected 12111.0 connected 12007.0 connected 12007.0 connected 12023.0 connected 12023.0 connected 12027.0 connected 12027.0 connected 12035.0 connected 12035.0 connected 12039.0 connected 12039.0 connected 12133.0 connected 12133.0 connected 12075.0 connected 12075.0 connected 12121.0 connected 12121.0 connected 12051.0 connected 12051.0 connected 12043.0 connected 12043.0 connected 12129.0 connected 12129.0 connected 12059.0 connected 12059.0 connected 12013.0 connected 12013.0 connected 12125.0 connected 12125.0 connected 12045.0 connected 12045.0 connected 12049.0 connected 12049.0 connected 12079.0 connected 12079.0 connected 12093.0 connected 12093.0 connected 12037.0 connected 12037.0 connected 12029.0 connected 12029.0 connected 12065.0 connected 12065.0 connected 12047.0 connected 12047.0 connected 12041.0 connected 12041.0 connected 12123.0 connected 12123.0 connected 12067.0 connected 12067.0 connected 12077.0 connected 12077.0 connected "
     ]
    }
   ],
   "source": [
    "_ = get_county_weather('Florida')"
   ]
  },
  {
   "cell_type": "code",
   "execution_count": 41,
   "id": "processed-tender",
   "metadata": {
    "collapsed": true
   },
   "outputs": [
    {
     "name": "stdout",
     "output_type": "stream",
     "text": [
      "53 counties\n",
      "38101.0 connected 38101.0 connected 38015.0 connected 38015.0 connected 38017.0 connected 38017.0 connected 38059.0 connected 38059.0 connected 38069.0 connected 38069.0 connected 38071.0 connected 38071.0 connected 38099.0 connected 38099.0 timeout 38025.0 connected 38025.0 connected 38031.0 connected 38031.0 connected 38089.0 connected 38089.0 connected 38049.0 connected 38049.0 connected 38051.0 connected 38051.0 connected 38003.0 connected 38003.0 connected 38023.0 connected 38023.0 connected 38055.0 connected 38055.0 connected 38061.0 connected 38061.0 connected 38085.0 connected 38085.0 connected 38035.0 connected 38035.0 connected 38065.0 connected 38065.0 connected 38037.0 connected 38037.0 timeout 38053.0 timeout 38053.0 connected 38105.0 connected 38105.0 connected 38013.0 timeout 38013.0 connected 38027.0 connected 38027.0 connected 38087.0 connected 38087.0 connected 38029.0 timeout 38029.0 connected 38011.0 timeout 38011.0 timeout 38093.0 connected 38093.0 connected 38077.0 connected 38077.0 connected 38081.0 connected 38081.0 connected 38079.0 timeout 38079.0 connected 38063.0 connected 38063.0 connected 38103.0 timeout 38103.0 connected 38067.0 connected 38067.0 connected 38073.0 connected 38073.0 connected 38075.0 connected 38075.0 connected 38057.0 connected 38057.0 connected 38005.0 connected 38005.0 connected 38097.0 connected 38097.0 connected 38091.0 connected 38091.0 connected 38009.0 connected 38009.0 connected 38039.0 connected 38039.0 connected 38021.0 connected 38021.0 connected 38045.0 connected 38045.0 connected 38083.0 timeout 38083.0 connected 38043.0 connected 38043.0 connected 38007.0 timeout 38007.0 connected 38019.0 connected 38019.0 connected 38041.0 timeout 38041.0 connected 38095.0 connected 38095.0 connected 38047.0 connected 38047.0 connected 38033.0 connected 38033.0 connected 38001.0 connected 38001.0 connected "
     ]
    }
   ],
   "source": [
    "_ = get_county_weather('North Dakota')"
   ]
  },
  {
   "cell_type": "code",
   "execution_count": 42,
   "id": "weird-catholic",
   "metadata": {
    "collapsed": true
   },
   "outputs": [
    {
     "name": "stdout",
     "output_type": "stream",
     "text": [
      "66 counties\n",
      "46005.0 timeout 46005.0 connected 46023.0 connected 46023.0 connected 46035.0 connected 46035.0 connected 46099.0 connected 46099.0 connected 46009.0 connected 46009.0 connected 46087.0 connected 46087.0 connected 46013.0 connected 46013.0 connected 46029.0 connected 46029.0 connected 46065.0 connected 46065.0 connected 46085.0 connected 46085.0 connected 46103.0 connected 46103.0 connected 46011.0 connected 46011.0 connected 46083.0 connected 46083.0 connected 46093.0 connected 46093.0 connected 46003.0 connected 46003.0 connected 46049.0 connected 46049.0 connected 46081.0 connected 46081.0 connected 46121.0 timeout 46121.0 timeout 46127.0 connected 46127.0 connected 46039.0 connected 46039.0 connected 46057.0 connected 46057.0 connected 46067.0 connected 46067.0 connected 46135.0 timeout 46135.0 connected 46025.0 connected 46025.0 connected 46027.0 connected 46027.0 connected 46047.0 connected 46047.0 connected 46109.0 timeout 46109.0 connected 46125.0 connected 46125.0 connected 46091.0 connected 46091.0 connected 46079.0 connected 46079.0 connected 46115.0 timeout 46115.0 connected 46102.0 connected 46102.0 connected 46031.0 connected 46031.0 connected 46073.0 timeout 46073.0 connected 46097.0 connected 46097.0 connected 46111.0 connected 46111.0 connected 46119.0 connected 46119.0 connected 46129.0 connected 46129.0 connected 46069.0 connected 46069.0 connected 46101.0 connected 46101.0 connected 46117.0 connected 46117.0 connected 46089.0 timeout 46089.0 connected 46059.0 connected 46059.0 connected 46043.0 connected 46043.0 connected 46017.0 connected 46017.0 connected 46037.0 connected 46037.0 connected 46051.0 connected 46051.0 connected 46137.0 connected 46137.0 connected 46123.0 connected 46123.0 connected 46071.0 connected 46071.0 connected 46045.0 connected 46045.0 connected 46077.0 connected 46077.0 connected 46053.0 connected 46053.0 connected 46015.0 connected 46015.0 connected 46061.0 connected 46061.0 connected 46033.0 connected 46033.0 connected 46041.0 connected 46041.0 connected 46095.0 connected 46095.0 connected 46007.0 connected 46007.0 connected 46021.0 connected 46021.0 connected 46055.0 connected 46055.0 connected 46019.0 connected 46019.0 timeout 46075.0 connected 46075.0 connected 46105.0 connected 46105.0 connected 46107.0 connected 46107.0 connected 46063.0 connected 46063.0 connected "
     ]
    }
   ],
   "source": [
    "_ = get_county_weather('South Dakota')"
   ]
  },
  {
   "cell_type": "code",
   "execution_count": 43,
   "id": "robust-chapter",
   "metadata": {
    "collapsed": true
   },
   "outputs": [
    {
     "name": "stdout",
     "output_type": "stream",
     "text": [
      "5 counties\n",
      "44001.0 connected 44001.0 connected 44003.0 connected 44003.0 connected 44005.0 timeout 44005.0 timeout 44007.0 connected 44007.0 connected 44009.0 connected 44009.0 connected "
     ]
    }
   ],
   "source": [
    "_ = get_county_weather('Rhode Island')"
   ]
  },
  {
   "cell_type": "code",
   "execution_count": 47,
   "id": "tough-blake",
   "metadata": {
    "collapsed": true
   },
   "outputs": [
    {
     "name": "stdout",
     "output_type": "stream",
     "text": [
      "57 counties\n",
      "36119.0 connected 36119.0 connected 36059.0 connected 36059.0 connected 36087.0 connected 36087.0 connected 36091.0 connected 36091.0 connected 36103.0 connected 36103.0 connected 36111.0 connected 36111.0 connected 36055.0 connected 36055.0 connected 36001.0 connected 36001.0 connected 36025.0 timeout 36025.0 connected 36027.0 connected 36027.0 timeout 36043.0 connected 36043.0 connected 36071.0 connected 36071.0 connected 36093.0 timeout 36093.0 connected 36007.0 connected 36007.0 connected 36107.0 connected 36107.0 connected 36109.0 connected 36109.0 connected 36029.0 connected 36029.0 connected 36039.0 connected 36039.0 connected 36057.0 connected 36057.0 connected 36079.0 connected 36079.0 connected 36003.0 connected 36003.0 connected 36067.0 connected 36067.0 connected 36069.0 connected 36069.0 connected 36019.0 connected 36019.0 connected 36083.0 connected 36083.0 connected 36105.0 connected 36105.0 connected 36121.0 connected 36121.0 connected 36017.0 connected 36017.0 timeout 36031.0 connected 36031.0 connected 36041.0 connected 36041.0 connected 36045.0 connected 36045.0 connected 36051.0 connected 36051.0 connected 36113.0 connected 36113.0 connected 36115.0 connected 36115.0 connected 36095.0 connected 36095.0 connected 36117.0 connected 36117.0 connected 36021.0 connected 36021.0 connected 36035.0 connected 36035.0 connected 36037.0 connected 36037.0 timeout 36063.0 connected 36063.0 connected 36065.0 connected 36065.0 connected 36101.0 connected 36101.0 connected 36023.0 connected 36023.0 connected 36053.0 connected 36053.0 connected 36089.0 connected 36089.0 connected 36011.0 connected 36011.0 connected 36075.0 connected 36075.0 connected 36077.0 connected 36077.0 connected 36015.0 connected 36015.0 connected 36073.0 connected 36073.0 connected 36013.0 connected 36013.0 connected 36033.0 connected 36033.0 connected 36009.0 connected 36009.0 connected 36097.0 connected 36097.0 connected 36049.0 connected 36049.0 connected 36099.0 connected 36099.0 connected 36123.0 connected 36123.0 connected "
     ]
    }
   ],
   "source": [
    "_ = get_county_weather('New York')"
   ]
  },
  {
   "cell_type": "code",
   "execution_count": 48,
   "id": "plastic-carry",
   "metadata": {},
   "outputs": [
    {
     "data": {
      "text/plain": [
       "12"
      ]
     },
     "execution_count": 48,
     "metadata": {},
     "output_type": "execute_result"
    }
   ],
   "source": [
    "len(pd.read_csv('./weather_data/New York_weather.csv')['fips'].unique())"
   ]
  }
 ],
 "metadata": {
  "kernelspec": {
   "display_name": "Python 3",
   "language": "python",
   "name": "python3"
  },
  "language_info": {
   "codemirror_mode": {
    "name": "ipython",
    "version": 3
   },
   "file_extension": ".py",
   "mimetype": "text/x-python",
   "name": "python",
   "nbconvert_exporter": "python",
   "pygments_lexer": "ipython3",
   "version": "3.7.7"
  }
 },
 "nbformat": 4,
 "nbformat_minor": 5
}
