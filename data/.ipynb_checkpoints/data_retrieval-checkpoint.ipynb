{
 "cells": [
  {
   "cell_type": "code",
   "execution_count": 1,
   "id": "spread-toyota",
   "metadata": {},
   "outputs": [],
   "source": [
    "import requests\n",
    "import numpy as np\n",
    "import pandas as pd\n",
    "import matplotlib.pyplot as plt\n",
    "from bs4 import BeautifulSoup\n",
    "import pprint\n",
    "import json\n",
    "import urllib"
   ]
  },
  {
   "cell_type": "markdown",
   "id": "bronze-shield",
   "metadata": {},
   "source": [
    "# Get Covid data from api.covidtracking.com\n",
    "1. suppose 'data' is the retrieved json, then it has keys ['links', 'meta', 'data']<br>\n",
    "2. For us/daily, data['data'] stores daily number of cases, with keys ['date', 'states', 'cases', 'testing', 'outcomes']<br>\n",
    "['date'] is the date in YYYY-MM-DD<br>\n",
    "['state'] is the number of states<br>\n",
    "['cases'] has a single key ['total'] with ['value'] (raw number) and ['calculated'] (some statistics)<br>\n",
    "['testing'] is structured the same way as ['cases']<br>\n",
    "['outcomes']<br>\n",
    "3. For state/daily, data['data'] has keys ['date', 'state', 'meta', 'cases', 'tests', 'outcomes']"
   ]
  },
  {
   "cell_type": "code",
   "execution_count": 106,
   "id": "shared-laser",
   "metadata": {},
   "outputs": [],
   "source": [
    "def get_state_codes():\n",
    "    l = 'https://api.covidtracking.com/v2/states.json'\n",
    "    with urllib.request.urlopen(l) as url:\n",
    "        link_json = json.load(url)\n",
    "    pd.DataFrame(link_json['data']).to_csv('states.csv')"
   ]
  },
  {
   "cell_type": "code",
   "execution_count": 128,
   "id": "final-paste",
   "metadata": {},
   "outputs": [],
   "source": [
    "def retrieve_json(link):\n",
    "    try:\n",
    "        with urllib.request.urlopen(link) as url:\n",
    "            link_json = json.load(url)\n",
    "        filename = link.split('v2/')[1].replace('/', '_')\n",
    "        with open(filename, 'w') as f:\n",
    "            json.dump(link_json, f)\n",
    "        print('saved ' + filename)\n",
    "        if filename != 'us_daily.json':\n",
    "            covid_files.append(filename)\n",
    "    except:\n",
    "        print('retrieval failed' + link)"
   ]
  },
  {
   "cell_type": "code",
   "execution_count": 113,
   "id": "eleven-nothing",
   "metadata": {},
   "outputs": [],
   "source": [
    "def get_all_json():\n",
    "    global state_codes\n",
    "    covidtracking_api = 'https://api.covidtracking.com/v2/'\n",
    "    \n",
    "    retrieve_json(covidtracking_api+'us/daily.json')\n",
    "    \n",
    "    states_codes = pd.read_csv('states.csv')['state_code'].str.lower()\n",
    "    for state in states_codes:\n",
    "        retrieve_json(covidtracking_api + 'states/' + state + '/daily/simple.json')"
   ]
  },
  {
   "cell_type": "code",
   "execution_count": 169,
   "id": "settled-bachelor",
   "metadata": {},
   "outputs": [],
   "source": [
    "def clean_df_from_json(filename):\n",
    "    with open(filename, 'r') as f:\n",
    "        temp = json.load(f)\n",
    "    temp = pd.DataFrame(temp['data'])\n",
    "    \n",
    "    if filename != 'us_daily.json':\n",
    "        temp['cases_total'] = temp['cases'].apply(lambda x: x['total'])\n",
    "        temp['cases_confirmed'] = temp['cases'].apply(lambda x: x['confirmed'])\n",
    "        temp['cases_probable'] = temp['cases'].apply(lambda x: x['probable'])\n",
    "        temp['tests_total'] = temp['tests'].apply(lambda x: x['pcr']['specimens']['total'])\n",
    "        temp['tests_positive'] = temp['tests'].apply(lambda x: x['pcr']['specimens']['positive'])\n",
    "        temp = temp.drop(['cases', 'tests'], axis=1)\n",
    "        temp.to_csv(filename.replace('json', 'csv'))\n",
    "        print('saved ' + filename.replace('json', 'csv'))\n",
    "    else:\n",
    "        temp['cases_total'] = temp['cases'].apply(lambda x: x['total']['value'])\n",
    "        temp['cases_percent'] = temp['cases'].apply(lambda x: x['total']['calculated']['population_percent'])\n",
    "        temp['cases_increase'] = temp['cases'].apply(lambda x: x['total']['calculated']['change_from_prior_day'])\n",
    "        temp['cases_7d_change'] = temp['cases'].apply(lambda x: x['total']['calculated']['seven_day_change_percent'])\n",
    "        temp['testing_total'] = temp['testing'].apply(lambda x: x['total']['value'])\n",
    "        temp['testing_percent'] = temp['testing'].apply(lambda x: x['total']['calculated']['population_percent'])\n",
    "        temp['testing_increase'] = temp['testing'].apply(lambda x: x['total']['calculated']['change_from_prior_day'])\n",
    "        temp['testing_7d_change'] = temp['testing'].apply(lambda x: x['total']['calculated']['seven_day_change_percent'])\n",
    "        temp = temp.drop(['cases', 'testing'], axis=1)\n",
    "        temp.to_csv('us_daily.csv')\n",
    "        print('saved us_daily.csv')"
   ]
  },
  {
   "cell_type": "code",
   "execution_count": 170,
   "id": "otherwise-spotlight",
   "metadata": {},
   "outputs": [],
   "source": [
    "def clean_all_df():\n",
    "    clean_df_from_json('us_daily.json')\n",
    "    for file in covid_files:\n",
    "        clean_df_from_json(file)"
   ]
  },
  {
   "cell_type": "code",
   "execution_count": 107,
   "id": "pacific-taste",
   "metadata": {},
   "outputs": [],
   "source": [
    "get_state_codes()"
   ]
  },
  {
   "cell_type": "code",
   "execution_count": 93,
   "id": "killing-helen",
   "metadata": {
    "collapsed": true
   },
   "outputs": [
    {
     "name": "stdout",
     "output_type": "stream",
     "text": [
      "saved states_al_daily_simple.json\n",
      "saved states_ak_daily_simple.json\n",
      "saved states_az_daily_simple.json\n",
      "saved states_ar_daily_simple.json\n",
      "saved states_ca_daily_simple.json\n",
      "saved states_co_daily_simple.json\n",
      "saved states_ct_daily_simple.json\n",
      "saved states_de_daily_simple.json\n",
      "saved states_dc_daily_simple.json\n",
      "saved states_fl_daily_simple.json\n",
      "saved states_ga_daily_simple.json\n",
      "saved states_hi_daily_simple.json\n",
      "saved states_id_daily_simple.json\n",
      "saved states_il_daily_simple.json\n",
      "saved states_in_daily_simple.json\n",
      "saved states_ia_daily_simple.json\n",
      "saved states_ks_daily_simple.json\n",
      "saved states_ky_daily_simple.json\n",
      "saved states_la_daily_simple.json\n",
      "saved states_me_daily_simple.json\n",
      "saved states_md_daily_simple.json\n",
      "saved states_ma_daily_simple.json\n",
      "saved states_mi_daily_simple.json\n",
      "saved states_mn_daily_simple.json\n",
      "saved states_ms_daily_simple.json\n",
      "saved states_mo_daily_simple.json\n",
      "saved states_mt_daily_simple.json\n",
      "saved states_ne_daily_simple.json\n",
      "saved states_nv_daily_simple.json\n",
      "saved states_nh_daily_simple.json\n",
      "saved states_nj_daily_simple.json\n",
      "saved states_nm_daily_simple.json\n",
      "saved states_ny_daily_simple.json\n",
      "saved states_nc_daily_simple.json\n",
      "saved states_nd_daily_simple.json\n",
      "saved states_oh_daily_simple.json\n",
      "saved states_ok_daily_simple.json\n",
      "saved states_or_daily_simple.json\n",
      "saved states_pa_daily_simple.json\n",
      "saved states_pr_daily_simple.json\n",
      "saved states_ri_daily_simple.json\n",
      "saved states_sc_daily_simple.json\n",
      "saved states_sd_daily_simple.json\n",
      "saved states_tn_daily_simple.json\n",
      "saved states_tx_daily_simple.json\n",
      "saved states_ut_daily_simple.json\n",
      "saved states_vt_daily_simple.json\n",
      "saved states_va_daily_simple.json\n",
      "saved states_vi_daily_simple.json\n",
      "saved states_wa_daily_simple.json\n",
      "saved states_wv_daily_simple.json\n",
      "saved states_wi_daily_simple.json\n",
      "saved states_wy_daily_simple.json\n"
     ]
    }
   ],
   "source": [
    "covid_files = []\n",
    "get_all_json()"
   ]
  },
  {
   "cell_type": "code",
   "execution_count": 171,
   "id": "stable-local",
   "metadata": {
    "collapsed": true
   },
   "outputs": [
    {
     "name": "stdout",
     "output_type": "stream",
     "text": [
      "saved us_daily.csv\n",
      "saved states_al_daily_simple.csv\n",
      "saved states_ak_daily_simple.csv\n",
      "saved states_az_daily_simple.csv\n",
      "saved states_ar_daily_simple.csv\n",
      "saved states_ca_daily_simple.csv\n",
      "saved states_co_daily_simple.csv\n",
      "saved states_ct_daily_simple.csv\n",
      "saved states_de_daily_simple.csv\n",
      "saved states_dc_daily_simple.csv\n",
      "saved states_fl_daily_simple.csv\n",
      "saved states_ga_daily_simple.csv\n",
      "saved states_hi_daily_simple.csv\n",
      "saved states_id_daily_simple.csv\n",
      "saved states_il_daily_simple.csv\n",
      "saved states_in_daily_simple.csv\n",
      "saved states_ia_daily_simple.csv\n",
      "saved states_ks_daily_simple.csv\n",
      "saved states_ky_daily_simple.csv\n",
      "saved states_la_daily_simple.csv\n",
      "saved states_me_daily_simple.csv\n",
      "saved states_md_daily_simple.csv\n",
      "saved states_ma_daily_simple.csv\n",
      "saved states_mi_daily_simple.csv\n",
      "saved states_mn_daily_simple.csv\n",
      "saved states_ms_daily_simple.csv\n",
      "saved states_mo_daily_simple.csv\n",
      "saved states_mt_daily_simple.csv\n",
      "saved states_ne_daily_simple.csv\n",
      "saved states_nv_daily_simple.csv\n",
      "saved states_nh_daily_simple.csv\n",
      "saved states_nj_daily_simple.csv\n",
      "saved states_nm_daily_simple.csv\n",
      "saved states_ny_daily_simple.csv\n",
      "saved states_nc_daily_simple.csv\n",
      "saved states_nd_daily_simple.csv\n",
      "saved states_oh_daily_simple.csv\n",
      "saved states_ok_daily_simple.csv\n",
      "saved states_or_daily_simple.csv\n",
      "saved states_pa_daily_simple.csv\n",
      "saved states_pr_daily_simple.csv\n",
      "saved states_ri_daily_simple.csv\n",
      "saved states_sc_daily_simple.csv\n",
      "saved states_sd_daily_simple.csv\n",
      "saved states_tn_daily_simple.csv\n",
      "saved states_tx_daily_simple.csv\n",
      "saved states_ut_daily_simple.csv\n",
      "saved states_vt_daily_simple.csv\n",
      "saved states_va_daily_simple.csv\n",
      "saved states_vi_daily_simple.csv\n",
      "saved states_wa_daily_simple.csv\n",
      "saved states_wv_daily_simple.csv\n",
      "saved states_wi_daily_simple.csv\n",
      "saved states_wy_daily_simple.csv\n",
      "saved states_as_daily_simple.csv\n",
      "saved states_gu_daily_simple.csv\n",
      "saved states_mp_daily_simple.csv\n"
     ]
    }
   ],
   "source": [
    "clean_all_df()"
   ]
  },
  {
   "cell_type": "markdown",
   "id": "trained-reward",
   "metadata": {},
   "source": [
    "# Get weather data"
   ]
  },
  {
   "cell_type": "code",
   "execution_count": 85,
   "id": "beginning-calculator",
   "metadata": {},
   "outputs": [],
   "source": [
    "# use this to get station per state\n",
    "t = 'https://api.weather.gov/stations?state=CA'\n",
    "with urllib.request.urlopen(t) as url:\n",
    "        k = url.read()"
   ]
  },
  {
   "cell_type": "code",
   "execution_count": 86,
   "id": "mechanical-minute",
   "metadata": {},
   "outputs": [],
   "source": [
    "j = json.loads(k)['observationStations']"
   ]
  },
  {
   "cell_type": "code",
   "execution_count": 87,
   "id": "minimal-retro",
   "metadata": {},
   "outputs": [
    {
     "data": {
      "text/plain": [
       "3581"
      ]
     },
     "execution_count": 87,
     "metadata": {},
     "output_type": "execute_result"
    }
   ],
   "source": [
    "len(j)"
   ]
  },
  {
   "cell_type": "code",
   "execution_count": 36,
   "id": "phantom-trigger",
   "metadata": {},
   "outputs": [],
   "source": [
    "with urllib.request.urlopen('https://api.weather.gov/zones/county') as url:\n",
    "        k2 = url.read()"
   ]
  },
  {
   "cell_type": "code",
   "execution_count": 37,
   "id": "invalid-track",
   "metadata": {},
   "outputs": [
    {
     "data": {
      "text/plain": [
       "dict_keys(['@context', 'type', 'features'])"
      ]
     },
     "execution_count": 37,
     "metadata": {},
     "output_type": "execute_result"
    }
   ],
   "source": [
    "json.loads(k2).keys()"
   ]
  },
  {
   "cell_type": "code",
   "execution_count": 64,
   "id": "joined-contributor",
   "metadata": {},
   "outputs": [
    {
     "data": {
      "text/html": [
       "<div>\n",
       "<style scoped>\n",
       "    .dataframe tbody tr th:only-of-type {\n",
       "        vertical-align: middle;\n",
       "    }\n",
       "\n",
       "    .dataframe tbody tr th {\n",
       "        vertical-align: top;\n",
       "    }\n",
       "\n",
       "    .dataframe thead th {\n",
       "        text-align: right;\n",
       "    }\n",
       "</style>\n",
       "<table border=\"1\" class=\"dataframe\">\n",
       "  <thead>\n",
       "    <tr style=\"text-align: right;\">\n",
       "      <th></th>\n",
       "      <th>id</th>\n",
       "      <th>type</th>\n",
       "      <th>geometry</th>\n",
       "      <th>properties</th>\n",
       "    </tr>\n",
       "  </thead>\n",
       "  <tbody>\n",
       "    <tr>\n",
       "      <th>@id</th>\n",
       "      <td>https://api.weather.gov/zones/county/ALC003</td>\n",
       "      <td>Feature</td>\n",
       "      <td>None</td>\n",
       "      <td>https://api.weather.gov/zones/county/ALC003</td>\n",
       "    </tr>\n",
       "    <tr>\n",
       "      <th>@type</th>\n",
       "      <td>https://api.weather.gov/zones/county/ALC003</td>\n",
       "      <td>Feature</td>\n",
       "      <td>None</td>\n",
       "      <td>wx:Zone</td>\n",
       "    </tr>\n",
       "    <tr>\n",
       "      <th>cwa</th>\n",
       "      <td>https://api.weather.gov/zones/county/ALC003</td>\n",
       "      <td>Feature</td>\n",
       "      <td>None</td>\n",
       "      <td>[MOB]</td>\n",
       "    </tr>\n",
       "    <tr>\n",
       "      <th>effectiveDate</th>\n",
       "      <td>https://api.weather.gov/zones/county/ALC003</td>\n",
       "      <td>Feature</td>\n",
       "      <td>None</td>\n",
       "      <td>2020-11-10T18:00:00+00:00</td>\n",
       "    </tr>\n",
       "    <tr>\n",
       "      <th>expirationDate</th>\n",
       "      <td>https://api.weather.gov/zones/county/ALC003</td>\n",
       "      <td>Feature</td>\n",
       "      <td>None</td>\n",
       "      <td>2220-11-10T18:00:00+00:00</td>\n",
       "    </tr>\n",
       "    <tr>\n",
       "      <th>forecastOffices</th>\n",
       "      <td>https://api.weather.gov/zones/county/ALC003</td>\n",
       "      <td>Feature</td>\n",
       "      <td>None</td>\n",
       "      <td>[https://api.weather.gov/offices/MOB]</td>\n",
       "    </tr>\n",
       "    <tr>\n",
       "      <th>id</th>\n",
       "      <td>https://api.weather.gov/zones/county/ALC003</td>\n",
       "      <td>Feature</td>\n",
       "      <td>None</td>\n",
       "      <td>ALC003</td>\n",
       "    </tr>\n",
       "    <tr>\n",
       "      <th>name</th>\n",
       "      <td>https://api.weather.gov/zones/county/ALC003</td>\n",
       "      <td>Feature</td>\n",
       "      <td>None</td>\n",
       "      <td>Baldwin</td>\n",
       "    </tr>\n",
       "    <tr>\n",
       "      <th>observationStations</th>\n",
       "      <td>https://api.weather.gov/zones/county/ALC003</td>\n",
       "      <td>Feature</td>\n",
       "      <td>None</td>\n",
       "      <td>[]</td>\n",
       "    </tr>\n",
       "    <tr>\n",
       "      <th>radarStation</th>\n",
       "      <td>https://api.weather.gov/zones/county/ALC003</td>\n",
       "      <td>Feature</td>\n",
       "      <td>None</td>\n",
       "      <td>None</td>\n",
       "    </tr>\n",
       "    <tr>\n",
       "      <th>state</th>\n",
       "      <td>https://api.weather.gov/zones/county/ALC003</td>\n",
       "      <td>Feature</td>\n",
       "      <td>None</td>\n",
       "      <td>AL</td>\n",
       "    </tr>\n",
       "    <tr>\n",
       "      <th>timeZone</th>\n",
       "      <td>https://api.weather.gov/zones/county/ALC003</td>\n",
       "      <td>Feature</td>\n",
       "      <td>None</td>\n",
       "      <td>[America/Chicago]</td>\n",
       "    </tr>\n",
       "    <tr>\n",
       "      <th>type</th>\n",
       "      <td>https://api.weather.gov/zones/county/ALC003</td>\n",
       "      <td>Feature</td>\n",
       "      <td>None</td>\n",
       "      <td>county</td>\n",
       "    </tr>\n",
       "  </tbody>\n",
       "</table>\n",
       "</div>"
      ],
      "text/plain": [
       "                                                              id     type  \\\n",
       "@id                  https://api.weather.gov/zones/county/ALC003  Feature   \n",
       "@type                https://api.weather.gov/zones/county/ALC003  Feature   \n",
       "cwa                  https://api.weather.gov/zones/county/ALC003  Feature   \n",
       "effectiveDate        https://api.weather.gov/zones/county/ALC003  Feature   \n",
       "expirationDate       https://api.weather.gov/zones/county/ALC003  Feature   \n",
       "forecastOffices      https://api.weather.gov/zones/county/ALC003  Feature   \n",
       "id                   https://api.weather.gov/zones/county/ALC003  Feature   \n",
       "name                 https://api.weather.gov/zones/county/ALC003  Feature   \n",
       "observationStations  https://api.weather.gov/zones/county/ALC003  Feature   \n",
       "radarStation         https://api.weather.gov/zones/county/ALC003  Feature   \n",
       "state                https://api.weather.gov/zones/county/ALC003  Feature   \n",
       "timeZone             https://api.weather.gov/zones/county/ALC003  Feature   \n",
       "type                 https://api.weather.gov/zones/county/ALC003  Feature   \n",
       "\n",
       "                    geometry                                   properties  \n",
       "@id                     None  https://api.weather.gov/zones/county/ALC003  \n",
       "@type                   None                                      wx:Zone  \n",
       "cwa                     None                                        [MOB]  \n",
       "effectiveDate           None                    2020-11-10T18:00:00+00:00  \n",
       "expirationDate          None                    2220-11-10T18:00:00+00:00  \n",
       "forecastOffices         None        [https://api.weather.gov/offices/MOB]  \n",
       "id                      None                                       ALC003  \n",
       "name                    None                                      Baldwin  \n",
       "observationStations     None                                           []  \n",
       "radarStation            None                                         None  \n",
       "state                   None                                           AL  \n",
       "timeZone                None                            [America/Chicago]  \n",
       "type                    None                                       county  "
      ]
     },
     "execution_count": 64,
     "metadata": {},
     "output_type": "execute_result"
    }
   ],
   "source": [
    "pd.DataFrame(json.loads(k2)['features'][30])"
   ]
  },
  {
   "cell_type": "code",
   "execution_count": 72,
   "id": "uniform-country",
   "metadata": {},
   "outputs": [],
   "source": [
    "# Use this to get weather of station\n",
    "with urllib.request.urlopen('https://api.weather.gov/stations/C1231/observations?limit=10') as url:\n",
    "        k3 = url.read()"
   ]
  },
  {
   "cell_type": "code",
   "execution_count": 73,
   "id": "adopted-arrow",
   "metadata": {},
   "outputs": [
    {
     "data": {
      "text/plain": [
       "dict_keys(['@context', 'type', 'features'])"
      ]
     },
     "execution_count": 73,
     "metadata": {},
     "output_type": "execute_result"
    }
   ],
   "source": [
    "j3 = json.loads(k3)\n",
    "j3.keys()"
   ]
  },
  {
   "cell_type": "code",
   "execution_count": 91,
   "id": "economic-exemption",
   "metadata": {},
   "outputs": [
    {
     "data": {
      "text/plain": [
       "{'@id': 'https://api.weather.gov/stations/C1231/observations/2021-03-09T15:06:00+00:00',\n",
       " '@type': 'wx:ObservationStation',\n",
       " 'elevation': {'value': 12.81, 'unitCode': 'unit:m'},\n",
       " 'station': 'https://api.weather.gov/stations/C1231',\n",
       " 'timestamp': '2021-03-09T15:06:00+00:00',\n",
       " 'rawMessage': '',\n",
       " 'textDescription': '',\n",
       " 'icon': None,\n",
       " 'presentWeather': [],\n",
       " 'temperature': {'value': 17.77776,\n",
       "  'unitCode': 'unit:degC',\n",
       "  'qualityControl': 'qc:V'},\n",
       " 'dewpoint': {'value': 12.22778,\n",
       "  'unitCode': 'unit:degC',\n",
       "  'qualityControl': 'qc:V'},\n",
       " 'windDirection': {'value': 84,\n",
       "  'unitCode': 'unit:degree_(angle)',\n",
       "  'qualityControl': 'qc:V'},\n",
       " 'windSpeed': {'value': 1.609344,\n",
       "  'unitCode': 'unit:km_h-1',\n",
       "  'qualityControl': 'qc:V'},\n",
       " 'windGust': {'value': 8.04672,\n",
       "  'unitCode': 'unit:km_h-1',\n",
       "  'qualityControl': 'qc:S'},\n",
       " 'barometricPressure': {'value': 103310,\n",
       "  'unitCode': 'unit:Pa',\n",
       "  'qualityControl': 'qc:V'},\n",
       " 'seaLevelPressure': {'value': None,\n",
       "  'unitCode': 'unit:Pa',\n",
       "  'qualityControl': 'qc:Z'},\n",
       " 'visibility': {'value': None, 'unitCode': 'unit:m', 'qualityControl': 'qc:Z'},\n",
       " 'maxTemperatureLast24Hours': {'value': None,\n",
       "  'unitCode': 'unit:degC',\n",
       "  'qualityControl': None},\n",
       " 'minTemperatureLast24Hours': {'value': None,\n",
       "  'unitCode': 'unit:degC',\n",
       "  'qualityControl': None},\n",
       " 'precipitationLast3Hours': {'value': None,\n",
       "  'unitCode': 'unit:m',\n",
       "  'qualityControl': 'qc:Z'},\n",
       " 'relativeHumidity': {'value': 69.971674138072,\n",
       "  'unitCode': 'unit:percent',\n",
       "  'qualityControl': 'qc:V'},\n",
       " 'windChill': {'value': None,\n",
       "  'unitCode': 'unit:degC',\n",
       "  'qualityControl': 'qc:V'},\n",
       " 'heatIndex': {'value': None,\n",
       "  'unitCode': 'unit:degC',\n",
       "  'qualityControl': 'qc:V'},\n",
       " 'cloudLayers': []}"
      ]
     },
     "execution_count": 91,
     "metadata": {},
     "output_type": "execute_result"
    }
   ],
   "source": [
    "pd.DataFrame(j3['features'])['properties'][8]"
   ]
  },
  {
   "cell_type": "code",
   "execution_count": null,
   "id": "auburn-northwest",
   "metadata": {},
   "outputs": [],
   "source": []
  }
 ],
 "metadata": {
  "kernelspec": {
   "display_name": "Python 3",
   "language": "python",
   "name": "python3"
  },
  "language_info": {
   "codemirror_mode": {
    "name": "ipython",
    "version": 3
   },
   "file_extension": ".py",
   "mimetype": "text/x-python",
   "name": "python",
   "nbconvert_exporter": "python",
   "pygments_lexer": "ipython3",
   "version": "3.7.7"
  }
 },
 "nbformat": 4,
 "nbformat_minor": 5
}
