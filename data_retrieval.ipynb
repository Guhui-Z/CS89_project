{
 "cells": [
  {
   "cell_type": "code",
   "execution_count": 42,
   "id": "spread-toyota",
   "metadata": {},
   "outputs": [],
   "source": [
    "import requests\n",
    "import numpy as np\n",
    "import pandas as pd\n",
    "import matplotlib.pyplot as plt\n",
    "from bs4 import BeautifulSoup\n",
    "import pprint\n",
    "import json\n",
    "import urllib\n",
    "import requests"
   ]
  },
  {
   "cell_type": "markdown",
   "id": "bronze-shield",
   "metadata": {},
   "source": [
    "# Get Covid data from api.covidtracking.com\n",
    "1. suppose 'data' is the retrieved json, then it has keys ['links', 'meta', 'data']<br>\n",
    "2. For us/daily, data['data'] stores daily number of cases, with keys ['date', 'states', 'cases', 'testing', 'outcomes']<br>\n",
    "['date'] is the date in YYYY-MM-DD<br>\n",
    "['state'] is the number of states<br>\n",
    "['cases'] has a single key ['total'] with ['value'] (raw number) and ['calculated'] (some statistics)<br>\n",
    "['testing'] is structured the same way as ['cases']<br>\n",
    "['outcomes']<br>\n",
    "3. For state/daily, data['data'] has keys ['date', 'state', 'meta', 'cases', 'tests', 'outcomes']"
   ]
  },
  {
   "cell_type": "code",
   "execution_count": 106,
   "id": "shared-laser",
   "metadata": {},
   "outputs": [],
   "source": [
    "def get_state_codes():\n",
    "    l = 'https://api.covidtracking.com/v2/states.json'\n",
    "    with urllib.request.urlopen(l) as url:\n",
    "        link_json = json.load(url)\n",
    "    pd.DataFrame(link_json['data']).to_csv('./data/states.csv')"
   ]
  },
  {
   "cell_type": "code",
   "execution_count": 128,
   "id": "final-paste",
   "metadata": {},
   "outputs": [],
   "source": [
    "def retrieve_json(link):\n",
    "    try:\n",
    "        with urllib.request.urlopen(link) as url:\n",
    "            link_json = json.load(url)\n",
    "        filename = './data/' + link.split('v2/')[1].replace('/', '_')\n",
    "        with open(filename, 'w') as f:\n",
    "            json.dump(link_json, f)\n",
    "        print('saved ' + filename)\n",
    "        if filename != './data/us_daily.json':\n",
    "            covid_files.append(filename)\n",
    "    except:\n",
    "        print('retrieval failed ' + link)"
   ]
  },
  {
   "cell_type": "code",
   "execution_count": 113,
   "id": "eleven-nothing",
   "metadata": {},
   "outputs": [],
   "source": [
    "def get_all_json():\n",
    "    global state_codes\n",
    "    covidtracking_api = 'https://api.covidtracking.com/v2/'\n",
    "    \n",
    "    retrieve_json(covidtracking_api+'us/daily.json')\n",
    "    \n",
    "    states_codes = pd.read_csv('./data/states.csv')['state_code'].str.lower()\n",
    "    for state in states_codes:\n",
    "        retrieve_json(covidtracking_api + 'states/' + state + '/daily/simple.json')"
   ]
  },
  {
   "cell_type": "code",
   "execution_count": 169,
   "id": "settled-bachelor",
   "metadata": {},
   "outputs": [],
   "source": [
    "def clean_df_from_json(filename):\n",
    "    with open(filename, 'r') as f:\n",
    "        temp = json.load(f)\n",
    "    temp = pd.DataFrame(temp['data'])\n",
    "    \n",
    "    if filename != './data/us_daily.json':\n",
    "        temp['cases_total'] = temp['cases'].apply(lambda x: x['total'])\n",
    "        temp['cases_confirmed'] = temp['cases'].apply(lambda x: x['confirmed'])\n",
    "        temp['cases_probable'] = temp['cases'].apply(lambda x: x['probable'])\n",
    "        temp['tests_total'] = temp['tests'].apply(lambda x: x['pcr']['specimens']['total'])\n",
    "        temp['tests_positive'] = temp['tests'].apply(lambda x: x['pcr']['specimens']['positive'])\n",
    "        temp = temp.drop(['cases', 'tests'], axis=1)\n",
    "        temp.to_csv(filename.replace('json', 'csv'))\n",
    "        print('saved ' + filename.replace('json', 'csv'))\n",
    "    else:\n",
    "        temp['cases_total'] = temp['cases'].apply(lambda x: x['total']['value'])\n",
    "        temp['cases_percent'] = temp['cases'].apply(lambda x: x['total']['calculated']['population_percent'])\n",
    "        temp['cases_increase'] = temp['cases'].apply(lambda x: x['total']['calculated']['change_from_prior_day'])\n",
    "        temp['cases_7d_change'] = temp['cases'].apply(lambda x: x['total']['calculated']['seven_day_change_percent'])\n",
    "        temp['testing_total'] = temp['testing'].apply(lambda x: x['total']['value'])\n",
    "        temp['testing_percent'] = temp['testing'].apply(lambda x: x['total']['calculated']['population_percent'])\n",
    "        temp['testing_increase'] = temp['testing'].apply(lambda x: x['total']['calculated']['change_from_prior_day'])\n",
    "        temp['testing_7d_change'] = temp['testing'].apply(lambda x: x['total']['calculated']['seven_day_change_percent'])\n",
    "        temp = temp.drop(['cases', 'testing'], axis=1)\n",
    "        temp.to_csv('./data/us_daily.csv')\n",
    "        print('saved us_daily.csv')"
   ]
  },
  {
   "cell_type": "code",
   "execution_count": 170,
   "id": "otherwise-spotlight",
   "metadata": {},
   "outputs": [],
   "source": [
    "def clean_all_df():\n",
    "    clean_df_from_json('./data/us_daily.json')\n",
    "    for file in covid_files:\n",
    "        clean_df_from_json(file)"
   ]
  },
  {
   "cell_type": "code",
   "execution_count": 107,
   "id": "pacific-taste",
   "metadata": {},
   "outputs": [],
   "source": [
    "get_state_codes()"
   ]
  },
  {
   "cell_type": "code",
   "execution_count": 93,
   "id": "killing-helen",
   "metadata": {
    "collapsed": true
   },
   "outputs": [
    {
     "name": "stdout",
     "output_type": "stream",
     "text": [
      "saved states_al_daily_simple.json\n",
      "saved states_ak_daily_simple.json\n",
      "saved states_az_daily_simple.json\n",
      "saved states_ar_daily_simple.json\n",
      "saved states_ca_daily_simple.json\n",
      "saved states_co_daily_simple.json\n",
      "saved states_ct_daily_simple.json\n",
      "saved states_de_daily_simple.json\n",
      "saved states_dc_daily_simple.json\n",
      "saved states_fl_daily_simple.json\n",
      "saved states_ga_daily_simple.json\n",
      "saved states_hi_daily_simple.json\n",
      "saved states_id_daily_simple.json\n",
      "saved states_il_daily_simple.json\n",
      "saved states_in_daily_simple.json\n",
      "saved states_ia_daily_simple.json\n",
      "saved states_ks_daily_simple.json\n",
      "saved states_ky_daily_simple.json\n",
      "saved states_la_daily_simple.json\n",
      "saved states_me_daily_simple.json\n",
      "saved states_md_daily_simple.json\n",
      "saved states_ma_daily_simple.json\n",
      "saved states_mi_daily_simple.json\n",
      "saved states_mn_daily_simple.json\n",
      "saved states_ms_daily_simple.json\n",
      "saved states_mo_daily_simple.json\n",
      "saved states_mt_daily_simple.json\n",
      "saved states_ne_daily_simple.json\n",
      "saved states_nv_daily_simple.json\n",
      "saved states_nh_daily_simple.json\n",
      "saved states_nj_daily_simple.json\n",
      "saved states_nm_daily_simple.json\n",
      "saved states_ny_daily_simple.json\n",
      "saved states_nc_daily_simple.json\n",
      "saved states_nd_daily_simple.json\n",
      "saved states_oh_daily_simple.json\n",
      "saved states_ok_daily_simple.json\n",
      "saved states_or_daily_simple.json\n",
      "saved states_pa_daily_simple.json\n",
      "saved states_pr_daily_simple.json\n",
      "saved states_ri_daily_simple.json\n",
      "saved states_sc_daily_simple.json\n",
      "saved states_sd_daily_simple.json\n",
      "saved states_tn_daily_simple.json\n",
      "saved states_tx_daily_simple.json\n",
      "saved states_ut_daily_simple.json\n",
      "saved states_vt_daily_simple.json\n",
      "saved states_va_daily_simple.json\n",
      "saved states_vi_daily_simple.json\n",
      "saved states_wa_daily_simple.json\n",
      "saved states_wv_daily_simple.json\n",
      "saved states_wi_daily_simple.json\n",
      "saved states_wy_daily_simple.json\n"
     ]
    }
   ],
   "source": [
    "covid_files = []\n",
    "get_all_json()"
   ]
  },
  {
   "cell_type": "code",
   "execution_count": 171,
   "id": "stable-local",
   "metadata": {
    "collapsed": true
   },
   "outputs": [
    {
     "name": "stdout",
     "output_type": "stream",
     "text": [
      "saved us_daily.csv\n",
      "saved states_al_daily_simple.csv\n",
      "saved states_ak_daily_simple.csv\n",
      "saved states_az_daily_simple.csv\n",
      "saved states_ar_daily_simple.csv\n",
      "saved states_ca_daily_simple.csv\n",
      "saved states_co_daily_simple.csv\n",
      "saved states_ct_daily_simple.csv\n",
      "saved states_de_daily_simple.csv\n",
      "saved states_dc_daily_simple.csv\n",
      "saved states_fl_daily_simple.csv\n",
      "saved states_ga_daily_simple.csv\n",
      "saved states_hi_daily_simple.csv\n",
      "saved states_id_daily_simple.csv\n",
      "saved states_il_daily_simple.csv\n",
      "saved states_in_daily_simple.csv\n",
      "saved states_ia_daily_simple.csv\n",
      "saved states_ks_daily_simple.csv\n",
      "saved states_ky_daily_simple.csv\n",
      "saved states_la_daily_simple.csv\n",
      "saved states_me_daily_simple.csv\n",
      "saved states_md_daily_simple.csv\n",
      "saved states_ma_daily_simple.csv\n",
      "saved states_mi_daily_simple.csv\n",
      "saved states_mn_daily_simple.csv\n",
      "saved states_ms_daily_simple.csv\n",
      "saved states_mo_daily_simple.csv\n",
      "saved states_mt_daily_simple.csv\n",
      "saved states_ne_daily_simple.csv\n",
      "saved states_nv_daily_simple.csv\n",
      "saved states_nh_daily_simple.csv\n",
      "saved states_nj_daily_simple.csv\n",
      "saved states_nm_daily_simple.csv\n",
      "saved states_ny_daily_simple.csv\n",
      "saved states_nc_daily_simple.csv\n",
      "saved states_nd_daily_simple.csv\n",
      "saved states_oh_daily_simple.csv\n",
      "saved states_ok_daily_simple.csv\n",
      "saved states_or_daily_simple.csv\n",
      "saved states_pa_daily_simple.csv\n",
      "saved states_pr_daily_simple.csv\n",
      "saved states_ri_daily_simple.csv\n",
      "saved states_sc_daily_simple.csv\n",
      "saved states_sd_daily_simple.csv\n",
      "saved states_tn_daily_simple.csv\n",
      "saved states_tx_daily_simple.csv\n",
      "saved states_ut_daily_simple.csv\n",
      "saved states_vt_daily_simple.csv\n",
      "saved states_va_daily_simple.csv\n",
      "saved states_vi_daily_simple.csv\n",
      "saved states_wa_daily_simple.csv\n",
      "saved states_wv_daily_simple.csv\n",
      "saved states_wi_daily_simple.csv\n",
      "saved states_wy_daily_simple.csv\n",
      "saved states_as_daily_simple.csv\n",
      "saved states_gu_daily_simple.csv\n",
      "saved states_mp_daily_simple.csv\n"
     ]
    }
   ],
   "source": [
    "clean_all_df()"
   ]
  },
  {
   "cell_type": "markdown",
   "id": "known-bennett",
   "metadata": {},
   "source": [
    "# Get Covid data (of March 10) from worldometers"
   ]
  },
  {
   "cell_type": "code",
   "execution_count": 6,
   "id": "universal-jenny",
   "metadata": {},
   "outputs": [],
   "source": [
    "wdm = 'https://www.worldometers.info/coronavirus/country/us/'\n",
    "wdm_page = requests.get(wdm)"
   ]
  },
  {
   "cell_type": "code",
   "execution_count": 12,
   "id": "express-index",
   "metadata": {},
   "outputs": [
    {
     "data": {
      "text/plain": [
       "['#',\n",
       " 'USAState',\n",
       " 'TotalCases',\n",
       " 'NewCases',\n",
       " 'TotalDeaths',\n",
       " 'NewDeaths',\n",
       " 'TotalRecovered',\n",
       " 'ActiveCases',\n",
       " 'Tot\\xa0Cases/1M pop',\n",
       " 'Deaths/1M pop',\n",
       " 'TotalTests',\n",
       " 'Tests/ 1M pop',\n",
       " 'Population',\n",
       " 'Projections']"
      ]
     },
     "execution_count": 12,
     "metadata": {},
     "output_type": "execute_result"
    }
   ],
   "source": [
    "df = pd.read_html(wdm_page.content)[1]\n",
    "df.columns.to_list() # check weird column names"
   ]
  },
  {
   "cell_type": "code",
   "execution_count": 16,
   "id": "blind-curtis",
   "metadata": {},
   "outputs": [],
   "source": [
    "# change weird column names\n",
    "df = df.rename(columns={'Tot\\xa0Cases/1M pop': 'TotCasesPer1MPop', \n",
    "                        'Deaths/1M pop':'DeathsPer1MPop', 'Tests/ 1M pop': 'TestsPer1MPop'})\n",
    "df.to_csv('./data/us_0310.csv')"
   ]
  },
  {
   "cell_type": "markdown",
   "id": "trained-reward",
   "metadata": {},
   "source": [
    "# Get weather data"
   ]
  },
  {
   "cell_type": "markdown",
   "id": "circular-florence",
   "metadata": {},
   "source": [
    "1. county -> severals zones -> several stations\n",
    "2. county observations are completely empty\n",
    "3. county observationStations are also empty"
   ]
  },
  {
   "cell_type": "code",
   "execution_count": 100,
   "id": "union-muslim",
   "metadata": {},
   "outputs": [],
   "source": [
    "# the county_stations is always empty as returned by the api, so we have another function\n",
    "# get_state_stations\n",
    "def get_state_counties(state):\n",
    "    state_abbr = states[states['name']==state]['state_code'].values[0]\n",
    "    t = f'https://api.weather.gov/zones?area={state_abbr}&type=county'\n",
    "    with urllib.request.urlopen(t) as url:\n",
    "            k = url.read()\n",
    "    print(t + ' api call is successful')\n",
    "    j = json.loads(k)['features']\n",
    "    \n",
    "    county_links = [item['id'] for item in j]\n",
    "    county_ids = [item['properties']['id'] for item in j]\n",
    "    county_names = [item['properties']['name'] for item in j]\n",
    "    county_states = [item['properties']['state'] for item in j]\n",
    "    county_stations = [item['properties']['observationStations'] for item in j] # empty\n",
    "    \n",
    "    df = pd.DataFrame({'link': county_links, 'id': county_ids, 'name': county_names,\n",
    "                      'state_code': county_states, 'stations': county_stations})\n",
    "    df['state'] = [state]*len(j)\n",
    "    return df"
   ]
  },
  {
   "cell_type": "code",
   "execution_count": 23,
   "id": "ranking-credit",
   "metadata": {},
   "outputs": [],
   "source": [
    "# the api does not show any stations for a given county, so we have to get all stations in\n",
    "# a state and match them to their counties\n",
    "def get_state_stations(state):\n",
    "    state_abbr = states[states['name']==state]['state_code'].values[0]\n",
    "    t = f'https://api.weather.gov/stations?state={state_abbr}'\n",
    "    with urllib.request.urlopen(t) as url:\n",
    "            k = url.read()\n",
    "    print(t + ' api call is successful')\n",
    "    j = json.loads(k)['features']\n",
    "    \n",
    "    station_forecasts = []\n",
    "    for i, item in enumerate(j):\n",
    "        if 'forecast' in item['properties'].keys():\n",
    "            station_forecasts.append(item['properties']['forecast'])\n",
    "        else:\n",
    "            station_forecasts.append(np.nan)\n",
    "\n",
    "    station_counties = []\n",
    "    for i, item in enumerate(j):\n",
    "        if 'county' in item['properties'].keys():\n",
    "            station_counties.append(item['properties']['county'].split('/')[-1])\n",
    "        else:\n",
    "            station_counties.append(np.nan)\n",
    "    \n",
    "    df = pd.DataFrame({'forecast': station_forecasts, 'county': station_counties})\n",
    "    df = df.dropna(axis=0)\n",
    "    df = df.drop_duplicates(ignore_index=True)\n",
    "    \n",
    "    return df"
   ]
  },
  {
   "cell_type": "code",
   "execution_count": 122,
   "id": "engaging-accordance",
   "metadata": {},
   "outputs": [],
   "source": [
    "def get_station_county_pair(state):\n",
    "    counties_of_state = get_state_counties(state)\n",
    "    stations_of_state = get_state_stations(state)\n",
    "    df = pd.merge(cali, cali_station, left_on='id', right_on='county', \n",
    "                  suffixes=['_county', '_station'])\n",
    "    df = df.drop('county', axis=1)\n",
    "    df.to_csv(f'./data/{state}_station_county_pair.csv')"
   ]
  },
  {
   "cell_type": "code",
   "execution_count": null,
   "id": "joint-vitamin",
   "metadata": {},
   "outputs": [],
   "source": [
    "def get_state_weather(state):\n",
    "    station_county_map = pd.read_csv(f'./data/{state}_station_county_pair.csv', index_col=0)"
   ]
  },
  {
   "cell_type": "code",
   "execution_count": null,
   "id": "simplified-singing",
   "metadata": {},
   "outputs": [],
   "source": [
    "def get_county_weather(county, station_county_map):\n",
    "    forecasts = station_county_map[station_county_map['name']==county]['forcast']\n",
    "    for forecast in forcasts:\n",
    "        request = requests.get(forecast)\n",
    "        if request.status_code != 200:\n",
    "            continue\n",
    "        else:\n",
    "            print(forcast, 'api call is successful')\n",
    "            with urllib.request.urlopen(forcast) as url:\n",
    "                print(url.)"
   ]
  },
  {
   "cell_type": "code",
   "execution_count": 46,
   "id": "wireless-quilt",
   "metadata": {},
   "outputs": [],
   "source": [
    "states = pd.read_csv('./data/states.csv', index_col=0)"
   ]
  },
  {
   "cell_type": "code",
   "execution_count": 123,
   "id": "directed-payday",
   "metadata": {},
   "outputs": [
    {
     "name": "stdout",
     "output_type": "stream",
     "text": [
      "https://api.weather.gov/zones?area=CA&type=county api call is successful\n",
      "https://api.weather.gov/stations?state=CA api call is successful\n"
     ]
    }
   ],
   "source": [
    "get_station_county_pair('California')"
   ]
  },
  {
   "cell_type": "code",
   "execution_count": 29,
   "id": "floral-carol",
   "metadata": {},
   "outputs": [],
   "source": [
    "d = pd.read_csv('./data/California_station_county_pair.csv', index_col=0)"
   ]
  },
  {
   "cell_type": "code",
   "execution_count": 38,
   "id": "dress-nation",
   "metadata": {},
   "outputs": [],
   "source": [
    "t = d['forecast'][0] + '/observations?limit=10'"
   ]
  },
  {
   "cell_type": "code",
   "execution_count": 41,
   "id": "sensitive-saturday",
   "metadata": {},
   "outputs": [
    {
     "data": {
      "text/html": [
       "<div>\n",
       "<style scoped>\n",
       "    .dataframe tbody tr th:only-of-type {\n",
       "        vertical-align: middle;\n",
       "    }\n",
       "\n",
       "    .dataframe tbody tr th {\n",
       "        vertical-align: top;\n",
       "    }\n",
       "\n",
       "    .dataframe thead th {\n",
       "        text-align: right;\n",
       "    }\n",
       "</style>\n",
       "<table border=\"1\" class=\"dataframe\">\n",
       "  <thead>\n",
       "    <tr style=\"text-align: right;\">\n",
       "      <th></th>\n",
       "      <th>link</th>\n",
       "      <th>id</th>\n",
       "      <th>name</th>\n",
       "      <th>state_code</th>\n",
       "      <th>stations</th>\n",
       "      <th>state</th>\n",
       "      <th>forecast</th>\n",
       "    </tr>\n",
       "  </thead>\n",
       "  <tbody>\n",
       "    <tr>\n",
       "      <th>0</th>\n",
       "      <td>https://api.weather.gov/zones/county/CAC001</td>\n",
       "      <td>CAC001</td>\n",
       "      <td>Alameda</td>\n",
       "      <td>CA</td>\n",
       "      <td>[]</td>\n",
       "      <td>California</td>\n",
       "      <td>https://api.weather.gov/zones/forecast/CAZ511</td>\n",
       "    </tr>\n",
       "    <tr>\n",
       "      <th>1</th>\n",
       "      <td>https://api.weather.gov/zones/county/CAC001</td>\n",
       "      <td>CAC001</td>\n",
       "      <td>Alameda</td>\n",
       "      <td>CA</td>\n",
       "      <td>[]</td>\n",
       "      <td>California</td>\n",
       "      <td>https://api.weather.gov/zones/forecast/CAZ508</td>\n",
       "    </tr>\n",
       "    <tr>\n",
       "      <th>2</th>\n",
       "      <td>https://api.weather.gov/zones/county/CAC001</td>\n",
       "      <td>CAC001</td>\n",
       "      <td>Alameda</td>\n",
       "      <td>CA</td>\n",
       "      <td>[]</td>\n",
       "      <td>California</td>\n",
       "      <td>https://api.weather.gov/zones/forecast/CAZ510</td>\n",
       "    </tr>\n",
       "    <tr>\n",
       "      <th>3</th>\n",
       "      <td>https://api.weather.gov/zones/county/CAC003</td>\n",
       "      <td>CAC003</td>\n",
       "      <td>Alpine</td>\n",
       "      <td>CA</td>\n",
       "      <td>[]</td>\n",
       "      <td>California</td>\n",
       "      <td>https://api.weather.gov/zones/forecast/CAZ069</td>\n",
       "    </tr>\n",
       "    <tr>\n",
       "      <th>4</th>\n",
       "      <td>https://api.weather.gov/zones/county/CAC003</td>\n",
       "      <td>CAC003</td>\n",
       "      <td>Alpine</td>\n",
       "      <td>CA</td>\n",
       "      <td>[]</td>\n",
       "      <td>California</td>\n",
       "      <td>https://api.weather.gov/zones/forecast/CAZ072</td>\n",
       "    </tr>\n",
       "    <tr>\n",
       "      <th>...</th>\n",
       "      <td>...</td>\n",
       "      <td>...</td>\n",
       "      <td>...</td>\n",
       "      <td>...</td>\n",
       "      <td>...</td>\n",
       "      <td>...</td>\n",
       "      <td>...</td>\n",
       "    </tr>\n",
       "    <tr>\n",
       "      <th>210</th>\n",
       "      <td>https://api.weather.gov/zones/county/CAC111</td>\n",
       "      <td>CAC111</td>\n",
       "      <td>Ventura</td>\n",
       "      <td>CA</td>\n",
       "      <td>[]</td>\n",
       "      <td>California</td>\n",
       "      <td>https://api.weather.gov/zones/forecast/CAZ550</td>\n",
       "    </tr>\n",
       "    <tr>\n",
       "      <th>211</th>\n",
       "      <td>https://api.weather.gov/zones/county/CAC113</td>\n",
       "      <td>CAC113</td>\n",
       "      <td>Yolo</td>\n",
       "      <td>CA</td>\n",
       "      <td>[]</td>\n",
       "      <td>California</td>\n",
       "      <td>https://api.weather.gov/zones/forecast/CAZ017</td>\n",
       "    </tr>\n",
       "    <tr>\n",
       "      <th>212</th>\n",
       "      <td>https://api.weather.gov/zones/county/CAC115</td>\n",
       "      <td>CAC115</td>\n",
       "      <td>Yuba</td>\n",
       "      <td>CA</td>\n",
       "      <td>[]</td>\n",
       "      <td>California</td>\n",
       "      <td>https://api.weather.gov/zones/forecast/CAZ067</td>\n",
       "    </tr>\n",
       "    <tr>\n",
       "      <th>213</th>\n",
       "      <td>https://api.weather.gov/zones/county/CAC115</td>\n",
       "      <td>CAC115</td>\n",
       "      <td>Yuba</td>\n",
       "      <td>CA</td>\n",
       "      <td>[]</td>\n",
       "      <td>California</td>\n",
       "      <td>https://api.weather.gov/zones/forecast/CAZ016</td>\n",
       "    </tr>\n",
       "    <tr>\n",
       "      <th>214</th>\n",
       "      <td>https://api.weather.gov/zones/county/CAC115</td>\n",
       "      <td>CAC115</td>\n",
       "      <td>Yuba</td>\n",
       "      <td>CA</td>\n",
       "      <td>[]</td>\n",
       "      <td>California</td>\n",
       "      <td>https://api.weather.gov/zones/forecast/CAZ069</td>\n",
       "    </tr>\n",
       "  </tbody>\n",
       "</table>\n",
       "<p>215 rows × 7 columns</p>\n",
       "</div>"
      ],
      "text/plain": [
       "                                            link      id     name state_code  \\\n",
       "0    https://api.weather.gov/zones/county/CAC001  CAC001  Alameda         CA   \n",
       "1    https://api.weather.gov/zones/county/CAC001  CAC001  Alameda         CA   \n",
       "2    https://api.weather.gov/zones/county/CAC001  CAC001  Alameda         CA   \n",
       "3    https://api.weather.gov/zones/county/CAC003  CAC003   Alpine         CA   \n",
       "4    https://api.weather.gov/zones/county/CAC003  CAC003   Alpine         CA   \n",
       "..                                           ...     ...      ...        ...   \n",
       "210  https://api.weather.gov/zones/county/CAC111  CAC111  Ventura         CA   \n",
       "211  https://api.weather.gov/zones/county/CAC113  CAC113     Yolo         CA   \n",
       "212  https://api.weather.gov/zones/county/CAC115  CAC115     Yuba         CA   \n",
       "213  https://api.weather.gov/zones/county/CAC115  CAC115     Yuba         CA   \n",
       "214  https://api.weather.gov/zones/county/CAC115  CAC115     Yuba         CA   \n",
       "\n",
       "    stations       state                                       forecast  \n",
       "0         []  California  https://api.weather.gov/zones/forecast/CAZ511  \n",
       "1         []  California  https://api.weather.gov/zones/forecast/CAZ508  \n",
       "2         []  California  https://api.weather.gov/zones/forecast/CAZ510  \n",
       "3         []  California  https://api.weather.gov/zones/forecast/CAZ069  \n",
       "4         []  California  https://api.weather.gov/zones/forecast/CAZ072  \n",
       "..       ...         ...                                            ...  \n",
       "210       []  California  https://api.weather.gov/zones/forecast/CAZ550  \n",
       "211       []  California  https://api.weather.gov/zones/forecast/CAZ017  \n",
       "212       []  California  https://api.weather.gov/zones/forecast/CAZ067  \n",
       "213       []  California  https://api.weather.gov/zones/forecast/CAZ016  \n",
       "214       []  California  https://api.weather.gov/zones/forecast/CAZ069  \n",
       "\n",
       "[215 rows x 7 columns]"
      ]
     },
     "execution_count": 41,
     "metadata": {},
     "output_type": "execute_result"
    }
   ],
   "source": [
    "d"
   ]
  },
  {
   "cell_type": "code",
   "execution_count": 40,
   "id": "uniform-country",
   "metadata": {},
   "outputs": [
    {
     "name": "stdout",
     "output_type": "stream",
     "text": [
      "<http.client.HTTPResponse object at 0x7fd062366950>\n"
     ]
    }
   ],
   "source": [
    "# Use this to get weather of station\n",
    "with urllib.request.urlopen(t) as url:\n",
    "        print(url.)"
   ]
  },
  {
   "cell_type": "code",
   "execution_count": 35,
   "id": "adopted-arrow",
   "metadata": {},
   "outputs": [
    {
     "data": {
      "text/plain": [
       "dict_keys(['@context', 'type', 'features'])"
      ]
     },
     "execution_count": 35,
     "metadata": {},
     "output_type": "execute_result"
    }
   ],
   "source": [
    "j3 = json.loads(k3)\n",
    "j3.keys()"
   ]
  },
  {
   "cell_type": "code",
   "execution_count": 37,
   "id": "economic-exemption",
   "metadata": {},
   "outputs": [
    {
     "data": {
      "text/plain": [
       "{'id': 'https://api.weather.gov/stations/KCCR/observations/2021-03-10T14:53:00+00:00',\n",
       " 'type': 'Feature',\n",
       " 'geometry': {'type': 'Point', 'coordinates': [-122.05, 37.97]},\n",
       " 'properties': {'@id': 'https://api.weather.gov/stations/KCCR/observations/2021-03-10T14:53:00+00:00',\n",
       "  '@type': 'wx:ObservationStation',\n",
       "  'elevation': {'value': 7, 'unitCode': 'unit:m'},\n",
       "  'station': 'https://api.weather.gov/stations/KCCR',\n",
       "  'timestamp': '2021-03-10T14:53:00+00:00',\n",
       "  'rawMessage': 'KCCR 101453Z 15006KT 10SM FEW060 07/04 A2992 RMK AO2 RAB11E31 SLP117 P0001 60004 T00720044 53002',\n",
       "  'textDescription': 'Mostly Clear',\n",
       "  'icon': 'https://api.weather.gov/icons/land/day/few?size=medium',\n",
       "  'presentWeather': [],\n",
       "  'temperature': {'value': 7.2,\n",
       "   'unitCode': 'unit:degC',\n",
       "   'qualityControl': 'qc:V'},\n",
       "  'dewpoint': {'value': 4.4,\n",
       "   'unitCode': 'unit:degC',\n",
       "   'qualityControl': 'qc:V'},\n",
       "  'windDirection': {'value': None,\n",
       "   'unitCode': 'unit:degree_(angle)',\n",
       "   'qualityControl': 'qc:Z'},\n",
       "  'windSpeed': {'value': 11.16,\n",
       "   'unitCode': 'unit:km_h-1',\n",
       "   'qualityControl': 'qc:V'},\n",
       "  'windGust': {'value': None,\n",
       "   'unitCode': 'unit:km_h-1',\n",
       "   'qualityControl': 'qc:Z'},\n",
       "  'barometricPressure': {'value': 101320,\n",
       "   'unitCode': 'unit:Pa',\n",
       "   'qualityControl': 'qc:V'},\n",
       "  'seaLevelPressure': {'value': None,\n",
       "   'unitCode': 'unit:Pa',\n",
       "   'qualityControl': 'qc:Z'},\n",
       "  'visibility': {'value': 16090,\n",
       "   'unitCode': 'unit:m',\n",
       "   'qualityControl': 'qc:C'},\n",
       "  'maxTemperatureLast24Hours': {'value': None,\n",
       "   'unitCode': 'unit:degC',\n",
       "   'qualityControl': None},\n",
       "  'minTemperatureLast24Hours': {'value': None,\n",
       "   'unitCode': 'unit:degC',\n",
       "   'qualityControl': None},\n",
       "  'precipitationLastHour': {'value': 0.0003,\n",
       "   'unitCode': 'unit:m',\n",
       "   'qualityControl': 'qc:C'},\n",
       "  'precipitationLast3Hours': {'value': 0.001,\n",
       "   'unitCode': 'unit:m',\n",
       "   'qualityControl': 'qc:C'},\n",
       "  'precipitationLast6Hours': {'value': None,\n",
       "   'unitCode': 'unit:m',\n",
       "   'qualityControl': 'qc:Z'},\n",
       "  'relativeHumidity': {'value': 82.390185843485,\n",
       "   'unitCode': 'unit:percent',\n",
       "   'qualityControl': 'qc:V'},\n",
       "  'windChill': {'value': 5.082966812782222,\n",
       "   'unitCode': 'unit:degC',\n",
       "   'qualityControl': 'qc:V'},\n",
       "  'heatIndex': {'value': None,\n",
       "   'unitCode': 'unit:degC',\n",
       "   'qualityControl': 'qc:V'},\n",
       "  'cloudLayers': [{'base': {'value': 1830, 'unitCode': 'unit:m'},\n",
       "    'amount': 'FEW'}]}}"
      ]
     },
     "execution_count": 37,
     "metadata": {},
     "output_type": "execute_result"
    }
   ],
   "source": [
    "j3['features'][0]"
   ]
  },
  {
   "cell_type": "code",
   "execution_count": null,
   "id": "auburn-northwest",
   "metadata": {},
   "outputs": [],
   "source": []
  }
 ],
 "metadata": {
  "kernelspec": {
   "display_name": "Python 3",
   "language": "python",
   "name": "python3"
  },
  "language_info": {
   "codemirror_mode": {
    "name": "ipython",
    "version": 3
   },
   "file_extension": ".py",
   "mimetype": "text/x-python",
   "name": "python",
   "nbconvert_exporter": "python",
   "pygments_lexer": "ipython3",
   "version": "3.7.7"
  }
 },
 "nbformat": 4,
 "nbformat_minor": 5
}
