{
 "cells": [
  {
   "cell_type": "code",
   "execution_count": 1,
   "id": "spread-toyota",
   "metadata": {},
   "outputs": [],
   "source": [
    "import requests\n",
    "import numpy as np\n",
    "import pandas as pd\n",
    "import matplotlib.pyplot as plt\n",
    "from bs4 import BeautifulSoup\n",
    "import pprint\n",
    "import json\n",
    "import urllib\n",
    "import requests"
   ]
  },
  {
   "cell_type": "markdown",
   "id": "bronze-shield",
   "metadata": {},
   "source": [
    "# Get Covid data from api.covidtracking.com\n",
    "1. suppose 'data' is the retrieved json, then it has keys ['links', 'meta', 'data']<br>\n",
    "2. For us/daily, data['data'] stores daily number of cases, with keys ['date', 'states', 'cases', 'testing', 'outcomes']<br>\n",
    "['date'] is the date in YYYY-MM-DD<br>\n",
    "['state'] is the number of states<br>\n",
    "['cases'] has a single key ['total'] with ['value'] (raw number) and ['calculated'] (some statistics)<br>\n",
    "['testing'] is structured the same way as ['cases']<br>\n",
    "['outcomes']<br>\n",
    "3. For state/daily, data['data'] has keys ['date', 'state', 'meta', 'cases', 'tests', 'outcomes']"
   ]
  },
  {
   "cell_type": "code",
   "execution_count": 106,
   "id": "shared-laser",
   "metadata": {},
   "outputs": [],
   "source": [
    "def get_state_codes():\n",
    "    l = 'https://api.covidtracking.com/v2/states.json'\n",
    "    with urllib.request.urlopen(l) as url:\n",
    "        link_json = json.load(url)\n",
    "    pd.DataFrame(link_json['data']).to_csv('./data/states.csv')"
   ]
  },
  {
   "cell_type": "code",
   "execution_count": 128,
   "id": "final-paste",
   "metadata": {},
   "outputs": [],
   "source": [
    "def retrieve_json(link):\n",
    "    try:\n",
    "        with urllib.request.urlopen(link) as url:\n",
    "            link_json = json.load(url)\n",
    "        filename = './data/' + link.split('v2/')[1].replace('/', '_')\n",
    "        with open(filename, 'w') as f:\n",
    "            json.dump(link_json, f)\n",
    "        print('saved ' + filename)\n",
    "        if filename != './data/us_daily.json':\n",
    "            covid_files.append(filename)\n",
    "    except:\n",
    "        print('retrieval failed ' + link)"
   ]
  },
  {
   "cell_type": "code",
   "execution_count": 113,
   "id": "eleven-nothing",
   "metadata": {},
   "outputs": [],
   "source": [
    "def get_all_json():\n",
    "    global state_codes\n",
    "    covidtracking_api = 'https://api.covidtracking.com/v2/'\n",
    "    \n",
    "    retrieve_json(covidtracking_api+'us/daily.json')\n",
    "    \n",
    "    states_codes = pd.read_csv('./data/states.csv')['state_code'].str.lower()\n",
    "    for state in states_codes:\n",
    "        retrieve_json(covidtracking_api + 'states/' + state + '/daily/simple.json')"
   ]
  },
  {
   "cell_type": "code",
   "execution_count": 169,
   "id": "settled-bachelor",
   "metadata": {},
   "outputs": [],
   "source": [
    "def clean_df_from_json(filename):\n",
    "    with open(filename, 'r') as f:\n",
    "        temp = json.load(f)\n",
    "    temp = pd.DataFrame(temp['data'])\n",
    "    \n",
    "    if filename != './data/us_daily.json':\n",
    "        temp['cases_total'] = temp['cases'].apply(lambda x: x['total'])\n",
    "        temp['cases_confirmed'] = temp['cases'].apply(lambda x: x['confirmed'])\n",
    "        temp['cases_probable'] = temp['cases'].apply(lambda x: x['probable'])\n",
    "        temp['tests_total'] = temp['tests'].apply(lambda x: x['pcr']['specimens']['total'])\n",
    "        temp['tests_positive'] = temp['tests'].apply(lambda x: x['pcr']['specimens']['positive'])\n",
    "        temp = temp.drop(['cases', 'tests'], axis=1)\n",
    "        temp.to_csv(filename.replace('json', 'csv'))\n",
    "        print('saved ' + filename.replace('json', 'csv'))\n",
    "    else:\n",
    "        temp['cases_total'] = temp['cases'].apply(lambda x: x['total']['value'])\n",
    "        temp['cases_percent'] = temp['cases'].apply(lambda x: x['total']['calculated']['population_percent'])\n",
    "        temp['cases_increase'] = temp['cases'].apply(lambda x: x['total']['calculated']['change_from_prior_day'])\n",
    "        temp['cases_7d_change'] = temp['cases'].apply(lambda x: x['total']['calculated']['seven_day_change_percent'])\n",
    "        temp['testing_total'] = temp['testing'].apply(lambda x: x['total']['value'])\n",
    "        temp['testing_percent'] = temp['testing'].apply(lambda x: x['total']['calculated']['population_percent'])\n",
    "        temp['testing_increase'] = temp['testing'].apply(lambda x: x['total']['calculated']['change_from_prior_day'])\n",
    "        temp['testing_7d_change'] = temp['testing'].apply(lambda x: x['total']['calculated']['seven_day_change_percent'])\n",
    "        temp = temp.drop(['cases', 'testing'], axis=1)\n",
    "        temp.to_csv('./data/us_daily.csv')\n",
    "        print('saved us_daily.csv')"
   ]
  },
  {
   "cell_type": "code",
   "execution_count": 170,
   "id": "otherwise-spotlight",
   "metadata": {},
   "outputs": [],
   "source": [
    "def clean_all_df():\n",
    "    clean_df_from_json('./data/us_daily.json')\n",
    "    for file in covid_files:\n",
    "        clean_df_from_json(file)"
   ]
  },
  {
   "cell_type": "code",
   "execution_count": 107,
   "id": "pacific-taste",
   "metadata": {},
   "outputs": [],
   "source": [
    "get_state_codes()"
   ]
  },
  {
   "cell_type": "code",
   "execution_count": 93,
   "id": "killing-helen",
   "metadata": {
    "collapsed": true
   },
   "outputs": [
    {
     "name": "stdout",
     "output_type": "stream",
     "text": [
      "saved states_al_daily_simple.json\n",
      "saved states_ak_daily_simple.json\n",
      "saved states_az_daily_simple.json\n",
      "saved states_ar_daily_simple.json\n",
      "saved states_ca_daily_simple.json\n",
      "saved states_co_daily_simple.json\n",
      "saved states_ct_daily_simple.json\n",
      "saved states_de_daily_simple.json\n",
      "saved states_dc_daily_simple.json\n",
      "saved states_fl_daily_simple.json\n",
      "saved states_ga_daily_simple.json\n",
      "saved states_hi_daily_simple.json\n",
      "saved states_id_daily_simple.json\n",
      "saved states_il_daily_simple.json\n",
      "saved states_in_daily_simple.json\n",
      "saved states_ia_daily_simple.json\n",
      "saved states_ks_daily_simple.json\n",
      "saved states_ky_daily_simple.json\n",
      "saved states_la_daily_simple.json\n",
      "saved states_me_daily_simple.json\n",
      "saved states_md_daily_simple.json\n",
      "saved states_ma_daily_simple.json\n",
      "saved states_mi_daily_simple.json\n",
      "saved states_mn_daily_simple.json\n",
      "saved states_ms_daily_simple.json\n",
      "saved states_mo_daily_simple.json\n",
      "saved states_mt_daily_simple.json\n",
      "saved states_ne_daily_simple.json\n",
      "saved states_nv_daily_simple.json\n",
      "saved states_nh_daily_simple.json\n",
      "saved states_nj_daily_simple.json\n",
      "saved states_nm_daily_simple.json\n",
      "saved states_ny_daily_simple.json\n",
      "saved states_nc_daily_simple.json\n",
      "saved states_nd_daily_simple.json\n",
      "saved states_oh_daily_simple.json\n",
      "saved states_ok_daily_simple.json\n",
      "saved states_or_daily_simple.json\n",
      "saved states_pa_daily_simple.json\n",
      "saved states_pr_daily_simple.json\n",
      "saved states_ri_daily_simple.json\n",
      "saved states_sc_daily_simple.json\n",
      "saved states_sd_daily_simple.json\n",
      "saved states_tn_daily_simple.json\n",
      "saved states_tx_daily_simple.json\n",
      "saved states_ut_daily_simple.json\n",
      "saved states_vt_daily_simple.json\n",
      "saved states_va_daily_simple.json\n",
      "saved states_vi_daily_simple.json\n",
      "saved states_wa_daily_simple.json\n",
      "saved states_wv_daily_simple.json\n",
      "saved states_wi_daily_simple.json\n",
      "saved states_wy_daily_simple.json\n"
     ]
    }
   ],
   "source": [
    "covid_files = []\n",
    "get_all_json()"
   ]
  },
  {
   "cell_type": "code",
   "execution_count": 171,
   "id": "stable-local",
   "metadata": {
    "collapsed": true
   },
   "outputs": [
    {
     "name": "stdout",
     "output_type": "stream",
     "text": [
      "saved us_daily.csv\n",
      "saved states_al_daily_simple.csv\n",
      "saved states_ak_daily_simple.csv\n",
      "saved states_az_daily_simple.csv\n",
      "saved states_ar_daily_simple.csv\n",
      "saved states_ca_daily_simple.csv\n",
      "saved states_co_daily_simple.csv\n",
      "saved states_ct_daily_simple.csv\n",
      "saved states_de_daily_simple.csv\n",
      "saved states_dc_daily_simple.csv\n",
      "saved states_fl_daily_simple.csv\n",
      "saved states_ga_daily_simple.csv\n",
      "saved states_hi_daily_simple.csv\n",
      "saved states_id_daily_simple.csv\n",
      "saved states_il_daily_simple.csv\n",
      "saved states_in_daily_simple.csv\n",
      "saved states_ia_daily_simple.csv\n",
      "saved states_ks_daily_simple.csv\n",
      "saved states_ky_daily_simple.csv\n",
      "saved states_la_daily_simple.csv\n",
      "saved states_me_daily_simple.csv\n",
      "saved states_md_daily_simple.csv\n",
      "saved states_ma_daily_simple.csv\n",
      "saved states_mi_daily_simple.csv\n",
      "saved states_mn_daily_simple.csv\n",
      "saved states_ms_daily_simple.csv\n",
      "saved states_mo_daily_simple.csv\n",
      "saved states_mt_daily_simple.csv\n",
      "saved states_ne_daily_simple.csv\n",
      "saved states_nv_daily_simple.csv\n",
      "saved states_nh_daily_simple.csv\n",
      "saved states_nj_daily_simple.csv\n",
      "saved states_nm_daily_simple.csv\n",
      "saved states_ny_daily_simple.csv\n",
      "saved states_nc_daily_simple.csv\n",
      "saved states_nd_daily_simple.csv\n",
      "saved states_oh_daily_simple.csv\n",
      "saved states_ok_daily_simple.csv\n",
      "saved states_or_daily_simple.csv\n",
      "saved states_pa_daily_simple.csv\n",
      "saved states_pr_daily_simple.csv\n",
      "saved states_ri_daily_simple.csv\n",
      "saved states_sc_daily_simple.csv\n",
      "saved states_sd_daily_simple.csv\n",
      "saved states_tn_daily_simple.csv\n",
      "saved states_tx_daily_simple.csv\n",
      "saved states_ut_daily_simple.csv\n",
      "saved states_vt_daily_simple.csv\n",
      "saved states_va_daily_simple.csv\n",
      "saved states_vi_daily_simple.csv\n",
      "saved states_wa_daily_simple.csv\n",
      "saved states_wv_daily_simple.csv\n",
      "saved states_wi_daily_simple.csv\n",
      "saved states_wy_daily_simple.csv\n",
      "saved states_as_daily_simple.csv\n",
      "saved states_gu_daily_simple.csv\n",
      "saved states_mp_daily_simple.csv\n"
     ]
    }
   ],
   "source": [
    "clean_all_df()"
   ]
  },
  {
   "cell_type": "markdown",
   "id": "known-bennett",
   "metadata": {},
   "source": [
    "# Get Covid data (of March 10) from worldometers"
   ]
  },
  {
   "cell_type": "code",
   "execution_count": 6,
   "id": "universal-jenny",
   "metadata": {},
   "outputs": [],
   "source": [
    "wdm = 'https://www.worldometers.info/coronavirus/country/us/'\n",
    "wdm_page = requests.get(wdm)"
   ]
  },
  {
   "cell_type": "code",
   "execution_count": 12,
   "id": "express-index",
   "metadata": {},
   "outputs": [
    {
     "data": {
      "text/plain": [
       "['#',\n",
       " 'USAState',\n",
       " 'TotalCases',\n",
       " 'NewCases',\n",
       " 'TotalDeaths',\n",
       " 'NewDeaths',\n",
       " 'TotalRecovered',\n",
       " 'ActiveCases',\n",
       " 'Tot\\xa0Cases/1M pop',\n",
       " 'Deaths/1M pop',\n",
       " 'TotalTests',\n",
       " 'Tests/ 1M pop',\n",
       " 'Population',\n",
       " 'Projections']"
      ]
     },
     "execution_count": 12,
     "metadata": {},
     "output_type": "execute_result"
    }
   ],
   "source": [
    "df = pd.read_html(wdm_page.content)[1]\n",
    "df.columns.to_list() # check weird column names"
   ]
  },
  {
   "cell_type": "code",
   "execution_count": 16,
   "id": "blind-curtis",
   "metadata": {},
   "outputs": [],
   "source": [
    "# change weird column names\n",
    "df = df.rename(columns={'Tot\\xa0Cases/1M pop': 'TotCasesPer1MPop', \n",
    "                        'Deaths/1M pop':'DeathsPer1MPop', 'Tests/ 1M pop': 'TestsPer1MPop'})\n",
    "df.to_csv('./data/us_0310.csv')"
   ]
  },
  {
   "cell_type": "markdown",
   "id": "trained-reward",
   "metadata": {},
   "source": [
    "# Get weather data from api.weather.gov (abandoned)"
   ]
  },
  {
   "cell_type": "markdown",
   "id": "boxed-alfred",
   "metadata": {},
   "source": [
    "1. county -> severals zones -> several stations\n",
    "2. county observations are completely empty\n",
    "3. county observationStations are also empty<br>\n",
    "Abandoned because the api does not provide enough data"
   ]
  },
  {
   "cell_type": "code",
   "execution_count": 100,
   "id": "union-muslim",
   "metadata": {},
   "outputs": [],
   "source": [
    "# the county_stations is always empty as returned by the api, so we have another function\n",
    "# get_state_stations\n",
    "def get_state_counties(state):\n",
    "    state_abbr = states[states['name']==state]['state_code'].values[0]\n",
    "    t = f'https://api.weather.gov/zones?area={state_abbr}&type=county'\n",
    "    with urllib.request.urlopen(t) as url:\n",
    "            k = url.read()\n",
    "    print(t + ' api call is successful')\n",
    "    j = json.loads(k)['features']\n",
    "    \n",
    "    county_links = [item['id'] for item in j]\n",
    "    county_ids = [item['properties']['id'] for item in j]\n",
    "    county_names = [item['properties']['name'] for item in j]\n",
    "    county_states = [item['properties']['state'] for item in j]\n",
    "    county_stations = [item['properties']['observationStations'] for item in j] # empty\n",
    "    \n",
    "    df = pd.DataFrame({'link': county_links, 'id': county_ids, 'name': county_names,\n",
    "                      'state_code': county_states, 'stations': county_stations})\n",
    "    df['state'] = [state]*len(j)\n",
    "    return df"
   ]
  },
  {
   "cell_type": "code",
   "execution_count": 23,
   "id": "ranking-credit",
   "metadata": {},
   "outputs": [],
   "source": [
    "# the api does not show any stations for a given county, so we have to get all stations in\n",
    "# a state and match them to their counties\n",
    "def get_state_stations(state):\n",
    "    state_abbr = states[states['name']==state]['state_code'].values[0]\n",
    "    t = f'https://api.weather.gov/stations?state={state_abbr}'\n",
    "    with urllib.request.urlopen(t) as url:\n",
    "            k = url.read()\n",
    "    print(t + ' api call is successful')\n",
    "    j = json.loads(k)['features']\n",
    "    \n",
    "    station_forecasts = []\n",
    "    for i, item in enumerate(j):\n",
    "        if 'forecast' in item['properties'].keys():\n",
    "            station_forecasts.append(item['properties']['forecast'])\n",
    "        else:\n",
    "            station_forecasts.append(np.nan)\n",
    "\n",
    "    station_counties = []\n",
    "    for i, item in enumerate(j):\n",
    "        if 'county' in item['properties'].keys():\n",
    "            station_counties.append(item['properties']['county'].split('/')[-1])\n",
    "        else:\n",
    "            station_counties.append(np.nan)\n",
    "    \n",
    "    df = pd.DataFrame({'forecast': station_forecasts, 'county': station_counties})\n",
    "    df = df.dropna(axis=0)\n",
    "    df = df.drop_duplicates(ignore_index=True)\n",
    "    \n",
    "    return df"
   ]
  },
  {
   "cell_type": "code",
   "execution_count": 122,
   "id": "engaging-accordance",
   "metadata": {},
   "outputs": [],
   "source": [
    "def get_station_county_pair(state):\n",
    "    counties_of_state = get_state_counties(state)\n",
    "    stations_of_state = get_state_stations(state)\n",
    "    df = pd.merge(cali, cali_station, left_on='id', right_on='county', \n",
    "                  suffixes=['_county', '_station'])\n",
    "    df = df.drop('county', axis=1)\n",
    "    df.to_csv(f'./data/{state}_station_county_pair.csv')"
   ]
  },
  {
   "cell_type": "code",
   "execution_count": null,
   "id": "competitive-timer",
   "metadata": {},
   "outputs": [],
   "source": [
    "def get_state_weather(state):\n",
    "    station_county_map = pd.read_csv(f'./data/{state}_station_county_pair.csv', index_col=0)"
   ]
  },
  {
   "cell_type": "code",
   "execution_count": 131,
   "id": "wireless-quilt",
   "metadata": {},
   "outputs": [],
   "source": [
    "states = pd.read_csv('./data/states.csv', index_col=0)"
   ]
  },
  {
   "cell_type": "code",
   "execution_count": 123,
   "id": "directed-payday",
   "metadata": {},
   "outputs": [
    {
     "name": "stdout",
     "output_type": "stream",
     "text": [
      "https://api.weather.gov/zones?area=CA&type=county api call is successful\n",
      "https://api.weather.gov/stations?state=CA api call is successful\n"
     ]
    }
   ],
   "source": [
    "get_station_county_pair('California')"
   ]
  },
  {
   "cell_type": "markdown",
   "id": "informal-twelve",
   "metadata": {},
   "source": [
    "# Get weather data from NOAA"
   ]
  },
  {
   "cell_type": "code",
   "execution_count": null,
   "id": "widespread-double",
   "metadata": {},
   "outputs": [],
   "source": [
    "datatypes = 'https://www.ncdc.noaa.gov/cdo-web/api/v2/datatypes?limit=1000'\n",
    "datatypes_r = requests.get(datatypes, headers={'token': token})\n",
    "\n",
    "temp = json.loads(datatypes_r.text)['results']\n",
    "mindate = [item['mindate'] for item in temp]\n",
    "maxdate = [item['maxdate'] for item in temp]\n",
    "name = [item['name'] for item in temp]\n",
    "_id = [item['id'] for item in temp]\n",
    "datatypes_df = pd.DataFrame({'mindate': mindate, 'maxdate': maxdate, 'name': name, 'id': _id})\n",
    "datatype_df.to_csv('noaa_datatypes.csv')"
   ]
  },
  {
   "cell_type": "code",
   "execution_count": 52,
   "id": "written-philosophy",
   "metadata": {},
   "outputs": [],
   "source": [
    "def get_county_weather(state):\n",
    "    county_fips = us_counties[us_counties['state']==state]['fips'].unique()\n",
    "    params1 = '&startdate=2020-01-21&enddate=2020-12-31&datatypeid=TAVG&limit=1000'\n",
    "    params2 = '&startdate=2021-01-01&enddate=2021-03-08&datatypeid=TAVG&limit=1000'\n",
    "    total = pd.DataFrame()\n",
    "    print(f'{len(county_fips)} counties')\n",
    "    \n",
    "    for fips in county_fips:\n",
    "        for params in [params1, params2]:\n",
    "            \n",
    "            # make connection\n",
    "            link = noaa_api + f'&locationid=FIPS:{int(fips):05}' + params\n",
    "            try:\n",
    "                r = requests.get(link, headers={'token': token}, timeout=5)\n",
    "            except:\n",
    "                print(fips, 'timeout', end=' ')\n",
    "                continue\n",
    "            if r.status_code != 200:\n",
    "                print(fips, 'failed', end=' ')\n",
    "                continue\n",
    "            print(fips, 'connected', end=' ')\n",
    "            \n",
    "            if json.loads(r.text): # response can be empty\n",
    "            \n",
    "                d = json.loads(r.text)['results']\n",
    "                dates = [item['date'] for item in d]\n",
    "                values = [item['value'] for item in d]\n",
    "                df = pd.DataFrame({'TAVG': values, 'date': dates})\n",
    "                df['fips'] = [fips] * len(d)\n",
    "\n",
    "                mean_tavg = df.groupby(['fips', 'date'])['TAVG'].mean().values\n",
    "                df = df.drop('TAVG', axis=1)\n",
    "                df = df.drop_duplicates(ignore_index=True)\n",
    "                df['mean_temp'] = mean_tavg\n",
    "\n",
    "                total = pd.concat((total, df))\n",
    "                \n",
    "    total.to_csv(f'./weather_data/{state}_weather.csv')\n",
    "    return total"
   ]
  },
  {
   "cell_type": "code",
   "execution_count": 20,
   "id": "judicial-valuation",
   "metadata": {},
   "outputs": [],
   "source": [
    "us_counties = pd.read_csv('./data/us-counties.csv')\n",
    "us_counties['date'] = pd.to_datetime(us_counties['date'])\n",
    "us_counties = us_counties.dropna()"
   ]
  },
  {
   "cell_type": "code",
   "execution_count": 21,
   "id": "closed-harris",
   "metadata": {},
   "outputs": [
    {
     "data": {
      "text/plain": [
       "Index(['date', 'county', 'state', 'fips', 'cases', 'deaths'], dtype='object')"
      ]
     },
     "execution_count": 21,
     "metadata": {},
     "output_type": "execute_result"
    }
   ],
   "source": [
    "us_counties.columns"
   ]
  },
  {
   "cell_type": "code",
   "execution_count": 22,
   "id": "toxic-participant",
   "metadata": {},
   "outputs": [],
   "source": [
    "noaa_api = 'https://www.ncdc.noaa.gov/cdo-web/api/v2/data?datasetid=GHCND'\n",
    "token = 'rilsfDWJGSwodWyqrUaOsREORAwwngJa'"
   ]
  },
  {
   "cell_type": "code",
   "execution_count": 53,
   "id": "blond-gregory",
   "metadata": {
    "collapsed": true
   },
   "outputs": [
    {
     "name": "stdout",
     "output_type": "stream",
     "text": [
      "58 counties\n",
      "6059.0 connected 6059.0 connected 6037.0 connected 6037.0 connected 6085.0 connected 6085.0 connected 6075.0 connected 6075.0 connected 6073.0 connected 6073.0 connected 6023.0 connected 6023.0 connected 6067.0 connected 6067.0 connected 6095.0 connected 6095.0 connected 6041.0 connected 6041.0 connected 6055.0 connected 6055.0 connected 6097.0 connected 6097.0 connected 6001.0 connected 6001.0 connected 6061.0 connected 6061.0 connected 6081.0 connected 6081.0 connected 6013.0 connected 6013.0 connected 6113.0 connected 6113.0 connected 6019.0 connected 6019.0 connected 6039.0 connected 6039.0 connected 6065.0 connected 6065.0 connected 6087.0 connected 6087.0 connected 6089.0 connected 6089.0 connected 6077.0 connected 6077.0 connected 6111.0 connected 6111.0 connected 6099.0 connected 6099.0 connected 6107.0 connected 6107.0 connected 6069.0 connected 6069.0 connected 6079.0 connected 6079.0 connected 6071.0 connected 6071.0 connected 6083.0 connected 6083.0 connected 6057.0 connected 6057.0 connected 6029.0 connected 6029.0 connected 6053.0 connected 6053.0 connected 6045.0 connected 6045.0 connected 6005.0 connected 6005.0 connected 6025.0 connected 6025.0 connected 6007.0 connected 6007.0 connected 6017.0 connected 6017.0 connected 6093.0 connected 6093.0 connected 6115.0 connected 6115.0 connected 6009.0 connected 6009.0 connected 6047.0 connected 6047.0 connected 6051.0 connected 6051.0 connected 6027.0 connected 6027.0 connected 6101.0 connected 6101.0 connected 6011.0 connected 6011.0 connected 6031.0 connected 6031.0 connected 6021.0 connected 6021.0 connected 6109.0 connected 6109.0 connected 6003.0 connected 6003.0 connected 6063.0 connected 6063.0 connected 6015.0 connected 6015.0 connected 6103.0 connected 6103.0 connected 6033.0 connected 6033.0 connected 6043.0 connected 6043.0 connected 6105.0 connected 6105.0 connected 6091.0 connected 6091.0 connected 6035.0 connected 6035.0 connected 6049.0 connected 6049.0 connected "
     ]
    }
   ],
   "source": [
    "cali_county_weather = get_county_weather('California')"
   ]
  },
  {
   "cell_type": "code",
   "execution_count": 41,
   "id": "married-mercy",
   "metadata": {
    "collapsed": true
   },
   "outputs": [
    {
     "name": "stdout",
     "output_type": "stream",
     "text": [
      "39 counties\n",
      "53061.0 failed\n",
      "53061.0 connected "
     ]
    },
    {
     "ename": "KeyboardInterrupt",
     "evalue": "",
     "output_type": "error",
     "traceback": [
      "\u001b[0;31m---------------------------------------------------------------------------\u001b[0m",
      "\u001b[0;31mKeyboardInterrupt\u001b[0m                         Traceback (most recent call last)",
      "\u001b[0;32m<ipython-input-41-b46e4baf19de>\u001b[0m in \u001b[0;36m<module>\u001b[0;34m\u001b[0m\n\u001b[0;32m----> 1\u001b[0;31m \u001b[0mwashingtong_county_weather\u001b[0m \u001b[0;34m=\u001b[0m \u001b[0mget_county_weather\u001b[0m\u001b[0;34m(\u001b[0m\u001b[0;34m'Washington'\u001b[0m\u001b[0;34m)\u001b[0m\u001b[0;34m\u001b[0m\u001b[0;34m\u001b[0m\u001b[0m\n\u001b[0m",
      "\u001b[0;32m<ipython-input-39-9b354cdd120d>\u001b[0m in \u001b[0;36mget_county_weather\u001b[0;34m(state)\u001b[0m\n\u001b[1;32m     11\u001b[0m             \u001b[0;31m# make connection\u001b[0m\u001b[0;34m\u001b[0m\u001b[0;34m\u001b[0m\u001b[0;34m\u001b[0m\u001b[0m\n\u001b[1;32m     12\u001b[0m             \u001b[0mlink\u001b[0m \u001b[0;34m=\u001b[0m \u001b[0mnoaa_api\u001b[0m \u001b[0;34m+\u001b[0m \u001b[0;34mf'&locationid=FIPS:{int(fips)}'\u001b[0m \u001b[0;34m+\u001b[0m \u001b[0mparams\u001b[0m\u001b[0;34m\u001b[0m\u001b[0;34m\u001b[0m\u001b[0m\n\u001b[0;32m---> 13\u001b[0;31m             \u001b[0mr\u001b[0m \u001b[0;34m=\u001b[0m \u001b[0mrequests\u001b[0m\u001b[0;34m.\u001b[0m\u001b[0mget\u001b[0m\u001b[0;34m(\u001b[0m\u001b[0mlink\u001b[0m\u001b[0;34m,\u001b[0m \u001b[0mheaders\u001b[0m\u001b[0;34m=\u001b[0m\u001b[0;34m{\u001b[0m\u001b[0;34m'token'\u001b[0m\u001b[0;34m:\u001b[0m \u001b[0mtoken\u001b[0m\u001b[0;34m}\u001b[0m\u001b[0;34m)\u001b[0m\u001b[0;34m\u001b[0m\u001b[0;34m\u001b[0m\u001b[0m\n\u001b[0m\u001b[1;32m     14\u001b[0m             \u001b[0;32mif\u001b[0m \u001b[0mr\u001b[0m\u001b[0;34m.\u001b[0m\u001b[0mstatus_code\u001b[0m \u001b[0;34m!=\u001b[0m \u001b[0;36m200\u001b[0m\u001b[0;34m:\u001b[0m\u001b[0;34m\u001b[0m\u001b[0;34m\u001b[0m\u001b[0m\n\u001b[1;32m     15\u001b[0m                 \u001b[0mprint\u001b[0m\u001b[0;34m(\u001b[0m\u001b[0mfips\u001b[0m\u001b[0;34m,\u001b[0m \u001b[0;34m'failed'\u001b[0m\u001b[0;34m)\u001b[0m\u001b[0;34m\u001b[0m\u001b[0;34m\u001b[0m\u001b[0m\n",
      "\u001b[0;32m~/opt/anaconda3/lib/python3.7/site-packages/requests/api.py\u001b[0m in \u001b[0;36mget\u001b[0;34m(url, params, **kwargs)\u001b[0m\n\u001b[1;32m     74\u001b[0m \u001b[0;34m\u001b[0m\u001b[0m\n\u001b[1;32m     75\u001b[0m     \u001b[0mkwargs\u001b[0m\u001b[0;34m.\u001b[0m\u001b[0msetdefault\u001b[0m\u001b[0;34m(\u001b[0m\u001b[0;34m'allow_redirects'\u001b[0m\u001b[0;34m,\u001b[0m \u001b[0;32mTrue\u001b[0m\u001b[0;34m)\u001b[0m\u001b[0;34m\u001b[0m\u001b[0;34m\u001b[0m\u001b[0m\n\u001b[0;32m---> 76\u001b[0;31m     \u001b[0;32mreturn\u001b[0m \u001b[0mrequest\u001b[0m\u001b[0;34m(\u001b[0m\u001b[0;34m'get'\u001b[0m\u001b[0;34m,\u001b[0m \u001b[0murl\u001b[0m\u001b[0;34m,\u001b[0m \u001b[0mparams\u001b[0m\u001b[0;34m=\u001b[0m\u001b[0mparams\u001b[0m\u001b[0;34m,\u001b[0m \u001b[0;34m**\u001b[0m\u001b[0mkwargs\u001b[0m\u001b[0;34m)\u001b[0m\u001b[0;34m\u001b[0m\u001b[0;34m\u001b[0m\u001b[0m\n\u001b[0m\u001b[1;32m     77\u001b[0m \u001b[0;34m\u001b[0m\u001b[0m\n\u001b[1;32m     78\u001b[0m \u001b[0;34m\u001b[0m\u001b[0m\n",
      "\u001b[0;32m~/opt/anaconda3/lib/python3.7/site-packages/requests/api.py\u001b[0m in \u001b[0;36mrequest\u001b[0;34m(method, url, **kwargs)\u001b[0m\n\u001b[1;32m     59\u001b[0m     \u001b[0;31m# cases, and look like a memory leak in others.\u001b[0m\u001b[0;34m\u001b[0m\u001b[0;34m\u001b[0m\u001b[0;34m\u001b[0m\u001b[0m\n\u001b[1;32m     60\u001b[0m     \u001b[0;32mwith\u001b[0m \u001b[0msessions\u001b[0m\u001b[0;34m.\u001b[0m\u001b[0mSession\u001b[0m\u001b[0;34m(\u001b[0m\u001b[0;34m)\u001b[0m \u001b[0;32mas\u001b[0m \u001b[0msession\u001b[0m\u001b[0;34m:\u001b[0m\u001b[0;34m\u001b[0m\u001b[0;34m\u001b[0m\u001b[0m\n\u001b[0;32m---> 61\u001b[0;31m         \u001b[0;32mreturn\u001b[0m \u001b[0msession\u001b[0m\u001b[0;34m.\u001b[0m\u001b[0mrequest\u001b[0m\u001b[0;34m(\u001b[0m\u001b[0mmethod\u001b[0m\u001b[0;34m=\u001b[0m\u001b[0mmethod\u001b[0m\u001b[0;34m,\u001b[0m \u001b[0murl\u001b[0m\u001b[0;34m=\u001b[0m\u001b[0murl\u001b[0m\u001b[0;34m,\u001b[0m \u001b[0;34m**\u001b[0m\u001b[0mkwargs\u001b[0m\u001b[0;34m)\u001b[0m\u001b[0;34m\u001b[0m\u001b[0;34m\u001b[0m\u001b[0m\n\u001b[0m\u001b[1;32m     62\u001b[0m \u001b[0;34m\u001b[0m\u001b[0m\n\u001b[1;32m     63\u001b[0m \u001b[0;34m\u001b[0m\u001b[0m\n",
      "\u001b[0;32m~/opt/anaconda3/lib/python3.7/site-packages/requests/sessions.py\u001b[0m in \u001b[0;36mrequest\u001b[0;34m(self, method, url, params, data, headers, cookies, files, auth, timeout, allow_redirects, proxies, hooks, stream, verify, cert, json)\u001b[0m\n\u001b[1;32m    540\u001b[0m         }\n\u001b[1;32m    541\u001b[0m         \u001b[0msend_kwargs\u001b[0m\u001b[0;34m.\u001b[0m\u001b[0mupdate\u001b[0m\u001b[0;34m(\u001b[0m\u001b[0msettings\u001b[0m\u001b[0;34m)\u001b[0m\u001b[0;34m\u001b[0m\u001b[0;34m\u001b[0m\u001b[0m\n\u001b[0;32m--> 542\u001b[0;31m         \u001b[0mresp\u001b[0m \u001b[0;34m=\u001b[0m \u001b[0mself\u001b[0m\u001b[0;34m.\u001b[0m\u001b[0msend\u001b[0m\u001b[0;34m(\u001b[0m\u001b[0mprep\u001b[0m\u001b[0;34m,\u001b[0m \u001b[0;34m**\u001b[0m\u001b[0msend_kwargs\u001b[0m\u001b[0;34m)\u001b[0m\u001b[0;34m\u001b[0m\u001b[0;34m\u001b[0m\u001b[0m\n\u001b[0m\u001b[1;32m    543\u001b[0m \u001b[0;34m\u001b[0m\u001b[0m\n\u001b[1;32m    544\u001b[0m         \u001b[0;32mreturn\u001b[0m \u001b[0mresp\u001b[0m\u001b[0;34m\u001b[0m\u001b[0;34m\u001b[0m\u001b[0m\n",
      "\u001b[0;32m~/opt/anaconda3/lib/python3.7/site-packages/requests/sessions.py\u001b[0m in \u001b[0;36msend\u001b[0;34m(self, request, **kwargs)\u001b[0m\n\u001b[1;32m    653\u001b[0m \u001b[0;34m\u001b[0m\u001b[0m\n\u001b[1;32m    654\u001b[0m         \u001b[0;31m# Send the request\u001b[0m\u001b[0;34m\u001b[0m\u001b[0;34m\u001b[0m\u001b[0;34m\u001b[0m\u001b[0m\n\u001b[0;32m--> 655\u001b[0;31m         \u001b[0mr\u001b[0m \u001b[0;34m=\u001b[0m \u001b[0madapter\u001b[0m\u001b[0;34m.\u001b[0m\u001b[0msend\u001b[0m\u001b[0;34m(\u001b[0m\u001b[0mrequest\u001b[0m\u001b[0;34m,\u001b[0m \u001b[0;34m**\u001b[0m\u001b[0mkwargs\u001b[0m\u001b[0;34m)\u001b[0m\u001b[0;34m\u001b[0m\u001b[0;34m\u001b[0m\u001b[0m\n\u001b[0m\u001b[1;32m    656\u001b[0m \u001b[0;34m\u001b[0m\u001b[0m\n\u001b[1;32m    657\u001b[0m         \u001b[0;31m# Total elapsed time of the request (approximately)\u001b[0m\u001b[0;34m\u001b[0m\u001b[0;34m\u001b[0m\u001b[0;34m\u001b[0m\u001b[0m\n",
      "\u001b[0;32m~/opt/anaconda3/lib/python3.7/site-packages/requests/adapters.py\u001b[0m in \u001b[0;36msend\u001b[0;34m(self, request, stream, timeout, verify, cert, proxies)\u001b[0m\n\u001b[1;32m    447\u001b[0m                     \u001b[0mdecode_content\u001b[0m\u001b[0;34m=\u001b[0m\u001b[0;32mFalse\u001b[0m\u001b[0;34m,\u001b[0m\u001b[0;34m\u001b[0m\u001b[0;34m\u001b[0m\u001b[0m\n\u001b[1;32m    448\u001b[0m                     \u001b[0mretries\u001b[0m\u001b[0;34m=\u001b[0m\u001b[0mself\u001b[0m\u001b[0;34m.\u001b[0m\u001b[0mmax_retries\u001b[0m\u001b[0;34m,\u001b[0m\u001b[0;34m\u001b[0m\u001b[0;34m\u001b[0m\u001b[0m\n\u001b[0;32m--> 449\u001b[0;31m                     \u001b[0mtimeout\u001b[0m\u001b[0;34m=\u001b[0m\u001b[0mtimeout\u001b[0m\u001b[0;34m\u001b[0m\u001b[0;34m\u001b[0m\u001b[0m\n\u001b[0m\u001b[1;32m    450\u001b[0m                 )\n\u001b[1;32m    451\u001b[0m \u001b[0;34m\u001b[0m\u001b[0m\n",
      "\u001b[0;32m~/opt/anaconda3/lib/python3.7/site-packages/urllib3/connectionpool.py\u001b[0m in \u001b[0;36murlopen\u001b[0;34m(self, method, url, body, headers, retries, redirect, assert_same_host, timeout, pool_timeout, release_conn, chunked, body_pos, **response_kw)\u001b[0m\n\u001b[1;32m    704\u001b[0m                 \u001b[0mbody\u001b[0m\u001b[0;34m=\u001b[0m\u001b[0mbody\u001b[0m\u001b[0;34m,\u001b[0m\u001b[0;34m\u001b[0m\u001b[0;34m\u001b[0m\u001b[0m\n\u001b[1;32m    705\u001b[0m                 \u001b[0mheaders\u001b[0m\u001b[0;34m=\u001b[0m\u001b[0mheaders\u001b[0m\u001b[0;34m,\u001b[0m\u001b[0;34m\u001b[0m\u001b[0;34m\u001b[0m\u001b[0m\n\u001b[0;32m--> 706\u001b[0;31m                 \u001b[0mchunked\u001b[0m\u001b[0;34m=\u001b[0m\u001b[0mchunked\u001b[0m\u001b[0;34m,\u001b[0m\u001b[0;34m\u001b[0m\u001b[0;34m\u001b[0m\u001b[0m\n\u001b[0m\u001b[1;32m    707\u001b[0m             )\n\u001b[1;32m    708\u001b[0m \u001b[0;34m\u001b[0m\u001b[0m\n",
      "\u001b[0;32m~/opt/anaconda3/lib/python3.7/site-packages/urllib3/connectionpool.py\u001b[0m in \u001b[0;36m_make_request\u001b[0;34m(self, conn, method, url, timeout, chunked, **httplib_request_kw)\u001b[0m\n\u001b[1;32m    443\u001b[0m                     \u001b[0;31m# Python 3 (including for exceptions like SystemExit).\u001b[0m\u001b[0;34m\u001b[0m\u001b[0;34m\u001b[0m\u001b[0;34m\u001b[0m\u001b[0m\n\u001b[1;32m    444\u001b[0m                     \u001b[0;31m# Otherwise it looks like a bug in the code.\u001b[0m\u001b[0;34m\u001b[0m\u001b[0;34m\u001b[0m\u001b[0;34m\u001b[0m\u001b[0m\n\u001b[0;32m--> 445\u001b[0;31m                     \u001b[0msix\u001b[0m\u001b[0;34m.\u001b[0m\u001b[0mraise_from\u001b[0m\u001b[0;34m(\u001b[0m\u001b[0me\u001b[0m\u001b[0;34m,\u001b[0m \u001b[0;32mNone\u001b[0m\u001b[0;34m)\u001b[0m\u001b[0;34m\u001b[0m\u001b[0;34m\u001b[0m\u001b[0m\n\u001b[0m\u001b[1;32m    446\u001b[0m         \u001b[0;32mexcept\u001b[0m \u001b[0;34m(\u001b[0m\u001b[0mSocketTimeout\u001b[0m\u001b[0;34m,\u001b[0m \u001b[0mBaseSSLError\u001b[0m\u001b[0;34m,\u001b[0m \u001b[0mSocketError\u001b[0m\u001b[0;34m)\u001b[0m \u001b[0;32mas\u001b[0m \u001b[0me\u001b[0m\u001b[0;34m:\u001b[0m\u001b[0;34m\u001b[0m\u001b[0;34m\u001b[0m\u001b[0m\n\u001b[1;32m    447\u001b[0m             \u001b[0mself\u001b[0m\u001b[0;34m.\u001b[0m\u001b[0m_raise_timeout\u001b[0m\u001b[0;34m(\u001b[0m\u001b[0merr\u001b[0m\u001b[0;34m=\u001b[0m\u001b[0me\u001b[0m\u001b[0;34m,\u001b[0m \u001b[0murl\u001b[0m\u001b[0;34m=\u001b[0m\u001b[0murl\u001b[0m\u001b[0;34m,\u001b[0m \u001b[0mtimeout_value\u001b[0m\u001b[0;34m=\u001b[0m\u001b[0mread_timeout\u001b[0m\u001b[0;34m)\u001b[0m\u001b[0;34m\u001b[0m\u001b[0;34m\u001b[0m\u001b[0m\n",
      "\u001b[0;32m~/opt/anaconda3/lib/python3.7/site-packages/urllib3/packages/six.py\u001b[0m in \u001b[0;36mraise_from\u001b[0;34m(value, from_value)\u001b[0m\n",
      "\u001b[0;32m~/opt/anaconda3/lib/python3.7/site-packages/urllib3/connectionpool.py\u001b[0m in \u001b[0;36m_make_request\u001b[0;34m(self, conn, method, url, timeout, chunked, **httplib_request_kw)\u001b[0m\n\u001b[1;32m    438\u001b[0m                 \u001b[0;31m# Python 3\u001b[0m\u001b[0;34m\u001b[0m\u001b[0;34m\u001b[0m\u001b[0;34m\u001b[0m\u001b[0m\n\u001b[1;32m    439\u001b[0m                 \u001b[0;32mtry\u001b[0m\u001b[0;34m:\u001b[0m\u001b[0;34m\u001b[0m\u001b[0;34m\u001b[0m\u001b[0m\n\u001b[0;32m--> 440\u001b[0;31m                     \u001b[0mhttplib_response\u001b[0m \u001b[0;34m=\u001b[0m \u001b[0mconn\u001b[0m\u001b[0;34m.\u001b[0m\u001b[0mgetresponse\u001b[0m\u001b[0;34m(\u001b[0m\u001b[0;34m)\u001b[0m\u001b[0;34m\u001b[0m\u001b[0;34m\u001b[0m\u001b[0m\n\u001b[0m\u001b[1;32m    441\u001b[0m                 \u001b[0;32mexcept\u001b[0m \u001b[0mBaseException\u001b[0m \u001b[0;32mas\u001b[0m \u001b[0me\u001b[0m\u001b[0;34m:\u001b[0m\u001b[0;34m\u001b[0m\u001b[0;34m\u001b[0m\u001b[0m\n\u001b[1;32m    442\u001b[0m                     \u001b[0;31m# Remove the TypeError from the exception chain in\u001b[0m\u001b[0;34m\u001b[0m\u001b[0;34m\u001b[0m\u001b[0;34m\u001b[0m\u001b[0m\n",
      "\u001b[0;32m~/opt/anaconda3/lib/python3.7/http/client.py\u001b[0m in \u001b[0;36mgetresponse\u001b[0;34m(self)\u001b[0m\n\u001b[1;32m   1342\u001b[0m         \u001b[0;32mtry\u001b[0m\u001b[0;34m:\u001b[0m\u001b[0;34m\u001b[0m\u001b[0;34m\u001b[0m\u001b[0m\n\u001b[1;32m   1343\u001b[0m             \u001b[0;32mtry\u001b[0m\u001b[0;34m:\u001b[0m\u001b[0;34m\u001b[0m\u001b[0;34m\u001b[0m\u001b[0m\n\u001b[0;32m-> 1344\u001b[0;31m                 \u001b[0mresponse\u001b[0m\u001b[0;34m.\u001b[0m\u001b[0mbegin\u001b[0m\u001b[0;34m(\u001b[0m\u001b[0;34m)\u001b[0m\u001b[0;34m\u001b[0m\u001b[0;34m\u001b[0m\u001b[0m\n\u001b[0m\u001b[1;32m   1345\u001b[0m             \u001b[0;32mexcept\u001b[0m \u001b[0mConnectionError\u001b[0m\u001b[0;34m:\u001b[0m\u001b[0;34m\u001b[0m\u001b[0;34m\u001b[0m\u001b[0m\n\u001b[1;32m   1346\u001b[0m                 \u001b[0mself\u001b[0m\u001b[0;34m.\u001b[0m\u001b[0mclose\u001b[0m\u001b[0;34m(\u001b[0m\u001b[0;34m)\u001b[0m\u001b[0;34m\u001b[0m\u001b[0;34m\u001b[0m\u001b[0m\n",
      "\u001b[0;32m~/opt/anaconda3/lib/python3.7/http/client.py\u001b[0m in \u001b[0;36mbegin\u001b[0;34m(self)\u001b[0m\n\u001b[1;32m    304\u001b[0m         \u001b[0;31m# read until we get a non-100 response\u001b[0m\u001b[0;34m\u001b[0m\u001b[0;34m\u001b[0m\u001b[0;34m\u001b[0m\u001b[0m\n\u001b[1;32m    305\u001b[0m         \u001b[0;32mwhile\u001b[0m \u001b[0;32mTrue\u001b[0m\u001b[0;34m:\u001b[0m\u001b[0;34m\u001b[0m\u001b[0;34m\u001b[0m\u001b[0m\n\u001b[0;32m--> 306\u001b[0;31m             \u001b[0mversion\u001b[0m\u001b[0;34m,\u001b[0m \u001b[0mstatus\u001b[0m\u001b[0;34m,\u001b[0m \u001b[0mreason\u001b[0m \u001b[0;34m=\u001b[0m \u001b[0mself\u001b[0m\u001b[0;34m.\u001b[0m\u001b[0m_read_status\u001b[0m\u001b[0;34m(\u001b[0m\u001b[0;34m)\u001b[0m\u001b[0;34m\u001b[0m\u001b[0;34m\u001b[0m\u001b[0m\n\u001b[0m\u001b[1;32m    307\u001b[0m             \u001b[0;32mif\u001b[0m \u001b[0mstatus\u001b[0m \u001b[0;34m!=\u001b[0m \u001b[0mCONTINUE\u001b[0m\u001b[0;34m:\u001b[0m\u001b[0;34m\u001b[0m\u001b[0;34m\u001b[0m\u001b[0m\n\u001b[1;32m    308\u001b[0m                 \u001b[0;32mbreak\u001b[0m\u001b[0;34m\u001b[0m\u001b[0;34m\u001b[0m\u001b[0m\n",
      "\u001b[0;32m~/opt/anaconda3/lib/python3.7/http/client.py\u001b[0m in \u001b[0;36m_read_status\u001b[0;34m(self)\u001b[0m\n\u001b[1;32m    265\u001b[0m \u001b[0;34m\u001b[0m\u001b[0m\n\u001b[1;32m    266\u001b[0m     \u001b[0;32mdef\u001b[0m \u001b[0m_read_status\u001b[0m\u001b[0;34m(\u001b[0m\u001b[0mself\u001b[0m\u001b[0;34m)\u001b[0m\u001b[0;34m:\u001b[0m\u001b[0;34m\u001b[0m\u001b[0;34m\u001b[0m\u001b[0m\n\u001b[0;32m--> 267\u001b[0;31m         \u001b[0mline\u001b[0m \u001b[0;34m=\u001b[0m \u001b[0mstr\u001b[0m\u001b[0;34m(\u001b[0m\u001b[0mself\u001b[0m\u001b[0;34m.\u001b[0m\u001b[0mfp\u001b[0m\u001b[0;34m.\u001b[0m\u001b[0mreadline\u001b[0m\u001b[0;34m(\u001b[0m\u001b[0m_MAXLINE\u001b[0m \u001b[0;34m+\u001b[0m \u001b[0;36m1\u001b[0m\u001b[0;34m)\u001b[0m\u001b[0;34m,\u001b[0m \u001b[0;34m\"iso-8859-1\"\u001b[0m\u001b[0;34m)\u001b[0m\u001b[0;34m\u001b[0m\u001b[0;34m\u001b[0m\u001b[0m\n\u001b[0m\u001b[1;32m    268\u001b[0m         \u001b[0;32mif\u001b[0m \u001b[0mlen\u001b[0m\u001b[0;34m(\u001b[0m\u001b[0mline\u001b[0m\u001b[0;34m)\u001b[0m \u001b[0;34m>\u001b[0m \u001b[0m_MAXLINE\u001b[0m\u001b[0;34m:\u001b[0m\u001b[0;34m\u001b[0m\u001b[0;34m\u001b[0m\u001b[0m\n\u001b[1;32m    269\u001b[0m             \u001b[0;32mraise\u001b[0m \u001b[0mLineTooLong\u001b[0m\u001b[0;34m(\u001b[0m\u001b[0;34m\"status line\"\u001b[0m\u001b[0;34m)\u001b[0m\u001b[0;34m\u001b[0m\u001b[0;34m\u001b[0m\u001b[0m\n",
      "\u001b[0;32m~/opt/anaconda3/lib/python3.7/socket.py\u001b[0m in \u001b[0;36mreadinto\u001b[0;34m(self, b)\u001b[0m\n\u001b[1;32m    587\u001b[0m         \u001b[0;32mwhile\u001b[0m \u001b[0;32mTrue\u001b[0m\u001b[0;34m:\u001b[0m\u001b[0;34m\u001b[0m\u001b[0;34m\u001b[0m\u001b[0m\n\u001b[1;32m    588\u001b[0m             \u001b[0;32mtry\u001b[0m\u001b[0;34m:\u001b[0m\u001b[0;34m\u001b[0m\u001b[0;34m\u001b[0m\u001b[0m\n\u001b[0;32m--> 589\u001b[0;31m                 \u001b[0;32mreturn\u001b[0m \u001b[0mself\u001b[0m\u001b[0;34m.\u001b[0m\u001b[0m_sock\u001b[0m\u001b[0;34m.\u001b[0m\u001b[0mrecv_into\u001b[0m\u001b[0;34m(\u001b[0m\u001b[0mb\u001b[0m\u001b[0;34m)\u001b[0m\u001b[0;34m\u001b[0m\u001b[0;34m\u001b[0m\u001b[0m\n\u001b[0m\u001b[1;32m    590\u001b[0m             \u001b[0;32mexcept\u001b[0m \u001b[0mtimeout\u001b[0m\u001b[0;34m:\u001b[0m\u001b[0;34m\u001b[0m\u001b[0;34m\u001b[0m\u001b[0m\n\u001b[1;32m    591\u001b[0m                 \u001b[0mself\u001b[0m\u001b[0;34m.\u001b[0m\u001b[0m_timeout_occurred\u001b[0m \u001b[0;34m=\u001b[0m \u001b[0;32mTrue\u001b[0m\u001b[0;34m\u001b[0m\u001b[0;34m\u001b[0m\u001b[0m\n",
      "\u001b[0;32m~/opt/anaconda3/lib/python3.7/ssl.py\u001b[0m in \u001b[0;36mrecv_into\u001b[0;34m(self, buffer, nbytes, flags)\u001b[0m\n\u001b[1;32m   1069\u001b[0m                   \u001b[0;34m\"non-zero flags not allowed in calls to recv_into() on %s\"\u001b[0m \u001b[0;34m%\u001b[0m\u001b[0;34m\u001b[0m\u001b[0;34m\u001b[0m\u001b[0m\n\u001b[1;32m   1070\u001b[0m                   self.__class__)\n\u001b[0;32m-> 1071\u001b[0;31m             \u001b[0;32mreturn\u001b[0m \u001b[0mself\u001b[0m\u001b[0;34m.\u001b[0m\u001b[0mread\u001b[0m\u001b[0;34m(\u001b[0m\u001b[0mnbytes\u001b[0m\u001b[0;34m,\u001b[0m \u001b[0mbuffer\u001b[0m\u001b[0;34m)\u001b[0m\u001b[0;34m\u001b[0m\u001b[0;34m\u001b[0m\u001b[0m\n\u001b[0m\u001b[1;32m   1072\u001b[0m         \u001b[0;32melse\u001b[0m\u001b[0;34m:\u001b[0m\u001b[0;34m\u001b[0m\u001b[0;34m\u001b[0m\u001b[0m\n\u001b[1;32m   1073\u001b[0m             \u001b[0;32mreturn\u001b[0m \u001b[0msuper\u001b[0m\u001b[0;34m(\u001b[0m\u001b[0;34m)\u001b[0m\u001b[0;34m.\u001b[0m\u001b[0mrecv_into\u001b[0m\u001b[0;34m(\u001b[0m\u001b[0mbuffer\u001b[0m\u001b[0;34m,\u001b[0m \u001b[0mnbytes\u001b[0m\u001b[0;34m,\u001b[0m \u001b[0mflags\u001b[0m\u001b[0;34m)\u001b[0m\u001b[0;34m\u001b[0m\u001b[0;34m\u001b[0m\u001b[0m\n",
      "\u001b[0;32m~/opt/anaconda3/lib/python3.7/ssl.py\u001b[0m in \u001b[0;36mread\u001b[0;34m(self, len, buffer)\u001b[0m\n\u001b[1;32m    927\u001b[0m         \u001b[0;32mtry\u001b[0m\u001b[0;34m:\u001b[0m\u001b[0;34m\u001b[0m\u001b[0;34m\u001b[0m\u001b[0m\n\u001b[1;32m    928\u001b[0m             \u001b[0;32mif\u001b[0m \u001b[0mbuffer\u001b[0m \u001b[0;32mis\u001b[0m \u001b[0;32mnot\u001b[0m \u001b[0;32mNone\u001b[0m\u001b[0;34m:\u001b[0m\u001b[0;34m\u001b[0m\u001b[0;34m\u001b[0m\u001b[0m\n\u001b[0;32m--> 929\u001b[0;31m                 \u001b[0;32mreturn\u001b[0m \u001b[0mself\u001b[0m\u001b[0;34m.\u001b[0m\u001b[0m_sslobj\u001b[0m\u001b[0;34m.\u001b[0m\u001b[0mread\u001b[0m\u001b[0;34m(\u001b[0m\u001b[0mlen\u001b[0m\u001b[0;34m,\u001b[0m \u001b[0mbuffer\u001b[0m\u001b[0;34m)\u001b[0m\u001b[0;34m\u001b[0m\u001b[0;34m\u001b[0m\u001b[0m\n\u001b[0m\u001b[1;32m    930\u001b[0m             \u001b[0;32melse\u001b[0m\u001b[0;34m:\u001b[0m\u001b[0;34m\u001b[0m\u001b[0;34m\u001b[0m\u001b[0m\n\u001b[1;32m    931\u001b[0m                 \u001b[0;32mreturn\u001b[0m \u001b[0mself\u001b[0m\u001b[0;34m.\u001b[0m\u001b[0m_sslobj\u001b[0m\u001b[0;34m.\u001b[0m\u001b[0mread\u001b[0m\u001b[0;34m(\u001b[0m\u001b[0mlen\u001b[0m\u001b[0;34m)\u001b[0m\u001b[0;34m\u001b[0m\u001b[0;34m\u001b[0m\u001b[0m\n",
      "\u001b[0;31mKeyboardInterrupt\u001b[0m: "
     ]
    }
   ],
   "source": [
    "washingtong_county_weather = get_county_weather('Washington')"
   ]
  },
  {
   "cell_type": "code",
   "execution_count": 60,
   "id": "dietary-iceland",
   "metadata": {},
   "outputs": [
    {
     "name": "stdout",
     "output_type": "stream",
     "text": [
      "<Response [200]>\n"
     ]
    },
    {
     "data": {
      "text/plain": [
       "dict_keys(['metadata', 'results'])"
      ]
     },
     "execution_count": 60,
     "metadata": {},
     "output_type": "execute_result"
    }
   ],
   "source": [
    "# cali 6059 6037 ? 53061\n",
    "a = 6037.0\n",
    "l = noaa_api+f'&locationid=FIPS:{int(a):05}&startdate=2021-01-01&enddate=2021-03-08&datatypeid=HLY-DEWP-NORMAL&limit=1000'\n",
    "l = 'https://www.ncdc.noaa.gov/cdo-web/api/v2/datacategories?limit=41'\n",
    "r1 = requests.get(l, headers={'token': token}, timeout=5)\n",
    "#load the api response as a json\n",
    "print(r1)\n",
    "d1 = json.loads(r1.text)\n",
    "if not d1:\n",
    "    print('empty')\n",
    "d1.keys()"
   ]
  },
  {
   "cell_type": "code",
   "execution_count": 61,
   "id": "consecutive-redhead",
   "metadata": {},
   "outputs": [
    {
     "data": {
      "text/plain": [
       "{'resultset': {'offset': 1, 'count': 42, 'limit': 41}}"
      ]
     },
     "execution_count": 61,
     "metadata": {},
     "output_type": "execute_result"
    }
   ],
   "source": [
    "d1['metadata']"
   ]
  },
  {
   "cell_type": "code",
   "execution_count": 63,
   "id": "interracial-devices",
   "metadata": {},
   "outputs": [
    {
     "data": {
      "text/plain": [
       "[{'name': 'Annual Agricultural', 'id': 'ANNAGR'},\n",
       " {'name': 'Annual Degree Days', 'id': 'ANNDD'},\n",
       " {'name': 'Annual Precipitation', 'id': 'ANNPRCP'},\n",
       " {'name': 'Annual Temperature', 'id': 'ANNTEMP'},\n",
       " {'name': 'Autumn Agricultural', 'id': 'AUAGR'},\n",
       " {'name': 'Autumn Degree Days', 'id': 'AUDD'},\n",
       " {'name': 'Autumn Precipitation', 'id': 'AUPRCP'},\n",
       " {'name': 'Autumn Temperature', 'id': 'AUTEMP'},\n",
       " {'name': 'Computed', 'id': 'COMP'},\n",
       " {'name': 'Computed Agricultural', 'id': 'COMPAGR'},\n",
       " {'name': 'Degree Days', 'id': 'DD'},\n",
       " {'name': 'Dual-Pol Moments', 'id': 'DUALPOLMOMENT'},\n",
       " {'name': 'Echo Tops', 'id': 'ECHOTOP'},\n",
       " {'name': 'Evaporation', 'id': 'EVAP'},\n",
       " {'name': 'Hydrometeor Type', 'id': 'HYDROMETEOR'},\n",
       " {'name': 'Land', 'id': 'LAND'},\n",
       " {'name': 'Miscellany', 'id': 'MISC'},\n",
       " {'name': 'Other', 'id': 'OTHER'},\n",
       " {'name': 'Overlay', 'id': 'OVERLAY'},\n",
       " {'name': 'Precipitation', 'id': 'PRCP'},\n",
       " {'name': 'Pressure', 'id': 'PRES'},\n",
       " {'name': 'Reflectivity', 'id': 'REFLECTIVITY'},\n",
       " {'name': 'Sky cover & clouds', 'id': 'SKY'},\n",
       " {'name': 'Spring Agricultural', 'id': 'SPAGR'},\n",
       " {'name': 'Spring Degree Days', 'id': 'SPDD'},\n",
       " {'name': 'Spring Precipitation', 'id': 'SPPRCP'},\n",
       " {'name': 'Spring Temperature', 'id': 'SPTEMP'},\n",
       " {'name': 'Summer Agricultural', 'id': 'SUAGR'},\n",
       " {'name': 'Summer Degree Days', 'id': 'SUDD'},\n",
       " {'name': 'Sunshine', 'id': 'SUN'},\n",
       " {'name': 'Summer Precipitation', 'id': 'SUPRCP'},\n",
       " {'name': 'Summer Temperature', 'id': 'SUTEMP'},\n",
       " {'name': 'Air Temperature', 'id': 'TEMP'},\n",
       " {'name': 'Velocity', 'id': 'VELOCITY'},\n",
       " {'name': 'Vertical Integrated Liquid', 'id': 'VERTINTLIQUID'},\n",
       " {'name': 'Water', 'id': 'WATER'},\n",
       " {'name': 'Winter Agricultural', 'id': 'WIAGR'},\n",
       " {'name': 'Winter Degree Days', 'id': 'WIDD'},\n",
       " {'name': 'Wind', 'id': 'WIND'},\n",
       " {'name': 'Winter Precipitation', 'id': 'WIPRCP'},\n",
       " {'name': 'Winter Temperature', 'id': 'WITEMP'}]"
      ]
     },
     "execution_count": 63,
     "metadata": {},
     "output_type": "execute_result"
    }
   ],
   "source": [
    "d1['results']"
   ]
  },
  {
   "cell_type": "code",
   "execution_count": 31,
   "id": "atmospheric-tournament",
   "metadata": {},
   "outputs": [
    {
     "data": {
      "text/plain": [
       "66"
      ]
     },
     "execution_count": 31,
     "metadata": {},
     "output_type": "execute_result"
    }
   ],
   "source": [
    "len(np.unique([item['date'] for item in d1['results']]))"
   ]
  },
  {
   "cell_type": "code",
   "execution_count": 304,
   "id": "crucial-archives",
   "metadata": {},
   "outputs": [],
   "source": [
    "dates1 = [item['date'] for item in d['results']]\n",
    "values1 = [item['value'] for item in d['results']]\n",
    "df1 = pd.DataFrame({'TAVG': values1, 'date': dates1})\n",
    "df1['fips'] = [53061] * len(d['results'])"
   ]
  },
  {
   "cell_type": "code",
   "execution_count": 305,
   "id": "invisible-circuit",
   "metadata": {},
   "outputs": [],
   "source": [
    "m = df1.groupby(['fips', 'date'])['TAVG'].mean().values"
   ]
  },
  {
   "cell_type": "code",
   "execution_count": 306,
   "id": "animal-brave",
   "metadata": {},
   "outputs": [
    {
     "data": {
      "text/html": [
       "<div>\n",
       "<style scoped>\n",
       "    .dataframe tbody tr th:only-of-type {\n",
       "        vertical-align: middle;\n",
       "    }\n",
       "\n",
       "    .dataframe tbody tr th {\n",
       "        vertical-align: top;\n",
       "    }\n",
       "\n",
       "    .dataframe thead th {\n",
       "        text-align: right;\n",
       "    }\n",
       "</style>\n",
       "<table border=\"1\" class=\"dataframe\">\n",
       "  <thead>\n",
       "    <tr style=\"text-align: right;\">\n",
       "      <th></th>\n",
       "      <th>date</th>\n",
       "      <th>fips</th>\n",
       "      <th>mean_temp</th>\n",
       "    </tr>\n",
       "  </thead>\n",
       "  <tbody>\n",
       "    <tr>\n",
       "      <th>0</th>\n",
       "      <td>2020-01-01T00:00:00</td>\n",
       "      <td>53061</td>\n",
       "      <td>25.0</td>\n",
       "    </tr>\n",
       "    <tr>\n",
       "      <th>1</th>\n",
       "      <td>2020-01-02T00:00:00</td>\n",
       "      <td>53061</td>\n",
       "      <td>-6.0</td>\n",
       "    </tr>\n",
       "    <tr>\n",
       "      <th>2</th>\n",
       "      <td>2020-01-03T00:00:00</td>\n",
       "      <td>53061</td>\n",
       "      <td>41.5</td>\n",
       "    </tr>\n",
       "  </tbody>\n",
       "</table>\n",
       "</div>"
      ],
      "text/plain": [
       "                  date   fips  mean_temp\n",
       "0  2020-01-01T00:00:00  53061       25.0\n",
       "1  2020-01-02T00:00:00  53061       -6.0\n",
       "2  2020-01-03T00:00:00  53061       41.5"
      ]
     },
     "execution_count": 306,
     "metadata": {},
     "output_type": "execute_result"
    }
   ],
   "source": [
    "df1 = df.drop('TAVG', axis=1)\n",
    "df1 = df.drop_duplicates(ignore_index=True)\n",
    "df1['mean_temp'] = m\n",
    "df1"
   ]
  },
  {
   "cell_type": "code",
   "execution_count": 308,
   "id": "concerned-forward",
   "metadata": {},
   "outputs": [
    {
     "data": {
      "text/html": [
       "<div>\n",
       "<style scoped>\n",
       "    .dataframe tbody tr th:only-of-type {\n",
       "        vertical-align: middle;\n",
       "    }\n",
       "\n",
       "    .dataframe tbody tr th {\n",
       "        vertical-align: top;\n",
       "    }\n",
       "\n",
       "    .dataframe thead th {\n",
       "        text-align: right;\n",
       "    }\n",
       "</style>\n",
       "<table border=\"1\" class=\"dataframe\">\n",
       "  <thead>\n",
       "    <tr style=\"text-align: right;\">\n",
       "      <th></th>\n",
       "      <th>date</th>\n",
       "      <th>fips</th>\n",
       "      <th>mean_temp</th>\n",
       "    </tr>\n",
       "  </thead>\n",
       "  <tbody>\n",
       "    <tr>\n",
       "      <th>0</th>\n",
       "      <td>2020-01-01T00:00:00</td>\n",
       "      <td>53061</td>\n",
       "      <td>25.0</td>\n",
       "    </tr>\n",
       "    <tr>\n",
       "      <th>1</th>\n",
       "      <td>2020-01-02T00:00:00</td>\n",
       "      <td>53061</td>\n",
       "      <td>-6.0</td>\n",
       "    </tr>\n",
       "    <tr>\n",
       "      <th>2</th>\n",
       "      <td>2020-01-03T00:00:00</td>\n",
       "      <td>53061</td>\n",
       "      <td>41.5</td>\n",
       "    </tr>\n",
       "    <tr>\n",
       "      <th>0</th>\n",
       "      <td>2020-01-01T00:00:00</td>\n",
       "      <td>53061</td>\n",
       "      <td>25.0</td>\n",
       "    </tr>\n",
       "    <tr>\n",
       "      <th>1</th>\n",
       "      <td>2020-01-02T00:00:00</td>\n",
       "      <td>53061</td>\n",
       "      <td>-6.0</td>\n",
       "    </tr>\n",
       "    <tr>\n",
       "      <th>2</th>\n",
       "      <td>2020-01-03T00:00:00</td>\n",
       "      <td>53061</td>\n",
       "      <td>41.5</td>\n",
       "    </tr>\n",
       "  </tbody>\n",
       "</table>\n",
       "</div>"
      ],
      "text/plain": [
       "                  date   fips  mean_temp\n",
       "0  2020-01-01T00:00:00  53061       25.0\n",
       "1  2020-01-02T00:00:00  53061       -6.0\n",
       "2  2020-01-03T00:00:00  53061       41.5\n",
       "0  2020-01-01T00:00:00  53061       25.0\n",
       "1  2020-01-02T00:00:00  53061       -6.0\n",
       "2  2020-01-03T00:00:00  53061       41.5"
      ]
     },
     "execution_count": 308,
     "metadata": {},
     "output_type": "execute_result"
    }
   ],
   "source": [
    "total = pd.DataFrame()\n",
    "pd.concat((total, df, df))"
   ]
  },
  {
   "cell_type": "code",
   "execution_count": null,
   "id": "alternate-dynamics",
   "metadata": {},
   "outputs": [],
   "source": []
  }
 ],
 "metadata": {
  "kernelspec": {
   "display_name": "Python 3",
   "language": "python",
   "name": "python3"
  },
  "language_info": {
   "codemirror_mode": {
    "name": "ipython",
    "version": 3
   },
   "file_extension": ".py",
   "mimetype": "text/x-python",
   "name": "python",
   "nbconvert_exporter": "python",
   "pygments_lexer": "ipython3",
   "version": "3.7.7"
  }
 },
 "nbformat": 4,
 "nbformat_minor": 5
}
